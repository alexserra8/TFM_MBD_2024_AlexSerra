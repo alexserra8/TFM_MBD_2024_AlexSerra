{
 "cells": [
  {
   "cell_type": "markdown",
   "metadata": {},
   "source": [
    "# 0. Import Dataset"
   ]
  },
  {
   "cell_type": "code",
   "execution_count": 1,
   "metadata": {},
   "outputs": [],
   "source": [
    "import pandas as pd\n",
    "import numpy as np"
   ]
  },
  {
   "cell_type": "code",
   "execution_count": 2,
   "metadata": {},
   "outputs": [],
   "source": [
    "df= pd.read_csv(r\"C:\\Users\\alexs\\Documents\\TFM_MBD\\TFM_MBD_2024_AlexSerra\\preprocessed_data\\other_europe.csv\")"
   ]
  },
  {
   "cell_type": "code",
   "execution_count": null,
   "metadata": {},
   "outputs": [],
   "source": []
  },
  {
   "cell_type": "markdown",
   "metadata": {},
   "source": [
    "# 1. Defining train, validation, test"
   ]
  },
  {
   "cell_type": "code",
   "execution_count": 3,
   "metadata": {},
   "outputs": [],
   "source": [
    "train_lim = int(df.shape[0]*0.7)\n",
    "df_train = df.iloc[:train_lim]\n",
    "df_test = df.iloc[train_lim:]"
   ]
  },
  {
   "cell_type": "code",
   "execution_count": 4,
   "metadata": {},
   "outputs": [],
   "source": [
    "train_lim_meta = int(df_train.shape[0]*0.6)\n",
    "df_train_meta = df_train.iloc[:train_lim_meta]\n",
    "df_validation_meta = df_train.iloc[train_lim_meta:]"
   ]
  },
  {
   "cell_type": "markdown",
   "metadata": {},
   "source": [
    "Let's define general datasets:\n",
    "\n",
    "- df_train --> data that we are going to use to train our algorithms (prophet, autoarima, ....)\n",
    "- df_test --> data that only will be used to evaluate scores of how the algorithm work.\n",
    "\n",
    "Now, we also defined \"meta\" dataset. This data will be used to train the meta learner:\n",
    "\n",
    "- df_train_meta --> son algorithm (prophet, autoarima,...) will be trained with this reduced amount of the train dataset.\n",
    "- df_validation_meta --> this data will be used, after having son algorithms trained, to train the meta learner. For example, for a linear regression, it will be used to obtain the coefficients.\n",
    "\n",
    "Once we have the metalearner trained, son algorithms will be trained with full df_train. And then using the metalearner to obtain final predictions."
   ]
  },
  {
   "cell_type": "code",
   "execution_count": null,
   "metadata": {},
   "outputs": [],
   "source": []
  },
  {
   "cell_type": "markdown",
   "metadata": {},
   "source": [
    "# 2. Prophet"
   ]
  },
  {
   "cell_type": "code",
   "execution_count": 5,
   "metadata": {},
   "outputs": [],
   "source": [
    "from prophet import Prophet"
   ]
  },
  {
   "cell_type": "code",
   "execution_count": 6,
   "metadata": {},
   "outputs": [],
   "source": [
    "model_prophet = Prophet()"
   ]
  },
  {
   "cell_type": "code",
   "execution_count": 7,
   "metadata": {},
   "outputs": [
    {
     "name": "stderr",
     "output_type": "stream",
     "text": [
      "11:18:41 - cmdstanpy - INFO - Chain [1] start processing\n",
      "11:18:41 - cmdstanpy - INFO - Chain [1] done processing\n"
     ]
    },
    {
     "data": {
      "text/plain": [
       "<prophet.forecaster.Prophet at 0x1c4abb97340>"
      ]
     },
     "execution_count": 7,
     "metadata": {},
     "output_type": "execute_result"
    }
   ],
   "source": [
    "model_prophet.fit(df_train)"
   ]
  },
  {
   "cell_type": "code",
   "execution_count": 8,
   "metadata": {},
   "outputs": [],
   "source": [
    "forecast_prophet = model_prophet.predict(df_test[[\"ds\"]])[\"yhat\"].values"
   ]
  },
  {
   "cell_type": "code",
   "execution_count": 9,
   "metadata": {},
   "outputs": [],
   "source": [
    "df_final_predictions= pd.DataFrame()"
   ]
  },
  {
   "cell_type": "code",
   "execution_count": 10,
   "metadata": {},
   "outputs": [],
   "source": [
    "df_final_predictions[\"ds\"] = df_test[\"ds\"]"
   ]
  },
  {
   "cell_type": "code",
   "execution_count": 11,
   "metadata": {},
   "outputs": [],
   "source": [
    "df_final_predictions [\"prophet\"] = forecast_prophet"
   ]
  },
  {
   "cell_type": "code",
   "execution_count": 12,
   "metadata": {},
   "outputs": [],
   "source": [
    "def calculate_mape(actual, predicted):\n",
    "    actual, predicted = np.array(actual), np.array(predicted)\n",
    "    return np.mean(np.abs((actual - predicted) / actual)) * 100"
   ]
  },
  {
   "cell_type": "code",
   "execution_count": 13,
   "metadata": {},
   "outputs": [
    {
     "name": "stdout",
     "output_type": "stream",
     "text": [
      "MAPE: 21.35%\n"
     ]
    }
   ],
   "source": [
    "mape=calculate_mape(df_test[\"y\"],forecast_prophet)\n",
    "\n",
    "print(f'MAPE: {mape:.2f}%')"
   ]
  },
  {
   "cell_type": "code",
   "execution_count": null,
   "metadata": {},
   "outputs": [],
   "source": []
  },
  {
   "cell_type": "markdown",
   "metadata": {},
   "source": [
    "# 3. Prophet adding regressors"
   ]
  },
  {
   "cell_type": "code",
   "execution_count": 14,
   "metadata": {},
   "outputs": [],
   "source": [
    "model_prophet_multiva = Prophet()"
   ]
  },
  {
   "cell_type": "code",
   "execution_count": 15,
   "metadata": {},
   "outputs": [],
   "source": [
    "for e in df_train.columns[2:]:\n",
    "    model_prophet_multiva.add_regressor(e)"
   ]
  },
  {
   "cell_type": "code",
   "execution_count": 16,
   "metadata": {},
   "outputs": [
    {
     "name": "stderr",
     "output_type": "stream",
     "text": [
      "11:18:41 - cmdstanpy - INFO - Chain [1] start processing\n",
      "11:18:42 - cmdstanpy - INFO - Chain [1] done processing\n"
     ]
    },
    {
     "data": {
      "text/plain": [
       "<prophet.forecaster.Prophet at 0x1c4abe43700>"
      ]
     },
     "execution_count": 16,
     "metadata": {},
     "output_type": "execute_result"
    }
   ],
   "source": [
    "model_prophet_multiva.fit(df_train)"
   ]
  },
  {
   "cell_type": "code",
   "execution_count": 17,
   "metadata": {},
   "outputs": [],
   "source": [
    "forecast_prophet_multiva = model_prophet_multiva.predict(df_test.drop(columns=\"y\"))[\"yhat\"].values"
   ]
  },
  {
   "cell_type": "code",
   "execution_count": 18,
   "metadata": {},
   "outputs": [
    {
     "name": "stdout",
     "output_type": "stream",
     "text": [
      "MAPE: 21.87%\n"
     ]
    }
   ],
   "source": [
    "mape=calculate_mape(df_test[\"y\"],forecast_prophet_multiva)\n",
    "\n",
    "print(f'MAPE: {mape:.2f}%')"
   ]
  },
  {
   "cell_type": "code",
   "execution_count": 19,
   "metadata": {},
   "outputs": [],
   "source": [
    "df_final_predictions[\"prophet_multiva\"] = forecast_prophet_multiva"
   ]
  },
  {
   "cell_type": "code",
   "execution_count": null,
   "metadata": {},
   "outputs": [],
   "source": []
  },
  {
   "cell_type": "markdown",
   "metadata": {},
   "source": [
    "# 4. Autoarima"
   ]
  },
  {
   "cell_type": "code",
   "execution_count": 20,
   "metadata": {},
   "outputs": [],
   "source": [
    "from pmdarima import auto_arima"
   ]
  },
  {
   "cell_type": "code",
   "execution_count": 21,
   "metadata": {},
   "outputs": [],
   "source": [
    "df_train_arima = df_train.copy()\n",
    "df_test_arima = df_test.copy()\n",
    "\n",
    "df_train_arima.set_index('ds', inplace=True)\n",
    "df_train_arima = df_train_arima[[\"y\"]]\n",
    "\n",
    "df_test_arima.set_index('ds', inplace=True)\n",
    "df_test_arima = df_test_arima[[\"y\"]]"
   ]
  },
  {
   "cell_type": "code",
   "execution_count": 22,
   "metadata": {},
   "outputs": [
    {
     "name": "stdout",
     "output_type": "stream",
     "text": [
      "Performing stepwise search to minimize aic\n",
      " ARIMA(2,0,2)(0,0,0)[0] intercept   : AIC=268.565, Time=0.35 sec\n",
      " ARIMA(0,0,0)(0,0,0)[0] intercept   : AIC=325.069, Time=0.03 sec\n",
      " ARIMA(1,0,0)(0,0,0)[0] intercept   : AIC=278.007, Time=0.05 sec\n",
      " ARIMA(0,0,1)(0,0,0)[0] intercept   : AIC=292.544, Time=0.05 sec\n",
      " ARIMA(0,0,0)(0,0,0)[0]             : AIC=646.754, Time=0.02 sec\n",
      " ARIMA(1,0,2)(0,0,0)[0] intercept   : AIC=267.768, Time=0.08 sec\n",
      " ARIMA(0,0,2)(0,0,0)[0] intercept   : AIC=290.754, Time=0.05 sec\n",
      " ARIMA(1,0,1)(0,0,0)[0] intercept   : AIC=265.856, Time=0.07 sec\n",
      " ARIMA(2,0,1)(0,0,0)[0] intercept   : AIC=267.825, Time=0.19 sec\n",
      " ARIMA(2,0,0)(0,0,0)[0] intercept   : AIC=274.014, Time=0.08 sec\n",
      " ARIMA(1,0,1)(0,0,0)[0]             : AIC=272.651, Time=0.05 sec\n",
      "\n",
      "Best model:  ARIMA(1,0,1)(0,0,0)[0] intercept\n",
      "Total fit time: 1.081 seconds\n",
      "                               SARIMAX Results                                \n",
      "==============================================================================\n",
      "Dep. Variable:                      y   No. Observations:                  128\n",
      "Model:               SARIMAX(1, 0, 1)   Log Likelihood                -128.928\n",
      "Date:                Tue, 21 May 2024   AIC                            265.856\n",
      "Time:                        11:18:46   BIC                            277.264\n",
      "Sample:                    01-06-2020   HQIC                           270.491\n",
      "                         - 06-13-2022                                         \n",
      "Covariance Type:                  opg                                         \n",
      "==============================================================================\n",
      "                 coef    std err          z      P>|z|      [0.025      0.975]\n",
      "------------------------------------------------------------------------------\n",
      "intercept      0.3084      0.154      1.997      0.046       0.006       0.611\n",
      "ar.L1          0.8938      0.053     16.859      0.000       0.790       0.998\n",
      "ma.L1         -0.5344      0.106     -5.021      0.000      -0.743      -0.326\n",
      "sigma2         0.4367      0.060      7.292      0.000       0.319       0.554\n",
      "===================================================================================\n",
      "Ljung-Box (L1) (Q):                   0.01   Jarque-Bera (JB):                 0.60\n",
      "Prob(Q):                              0.92   Prob(JB):                         0.74\n",
      "Heteroskedasticity (H):               0.80   Skew:                            -0.03\n",
      "Prob(H) (two-sided):                  0.47   Kurtosis:                         2.67\n",
      "===================================================================================\n",
      "\n",
      "Warnings:\n",
      "[1] Covariance matrix calculated using the outer product of gradients (complex-step).\n"
     ]
    }
   ],
   "source": [
    "# Train AutoARIMA model\n",
    "model_autoarima = auto_arima(df_train_arima, \n",
    "                   seasonal=True,  # Change to True if you want to fit a seasonal ARIMA\n",
    "\n",
    "                   stepwise=True,   # Set to False to perform a more exhaustive search\n",
    "                   trace=True)      # Set to True to see the search progress\n",
    "\n",
    "# Print the best model parameters\n",
    "print(model_autoarima.summary())"
   ]
  },
  {
   "cell_type": "code",
   "execution_count": 23,
   "metadata": {},
   "outputs": [],
   "source": [
    "forecast_autoarima = model_autoarima.predict(n_periods=df_test_arima.shape[0]).values"
   ]
  },
  {
   "cell_type": "code",
   "execution_count": 24,
   "metadata": {},
   "outputs": [],
   "source": [
    "df_final_predictions[\"autoarima\"] = forecast_autoarima"
   ]
  },
  {
   "cell_type": "code",
   "execution_count": 25,
   "metadata": {},
   "outputs": [
    {
     "name": "stdout",
     "output_type": "stream",
     "text": [
      "MAPE: 21.07%\n"
     ]
    }
   ],
   "source": [
    "mape=calculate_mape(df_test[\"y\"],forecast_autoarima)\n",
    "\n",
    "print(f'MAPE: {mape:.2f}%')"
   ]
  },
  {
   "cell_type": "code",
   "execution_count": null,
   "metadata": {},
   "outputs": [],
   "source": []
  },
  {
   "cell_type": "markdown",
   "metadata": {},
   "source": [
    "# 5. Ensembling (preparing data)"
   ]
  },
  {
   "cell_type": "code",
   "execution_count": 26,
   "metadata": {},
   "outputs": [
    {
     "name": "stderr",
     "output_type": "stream",
     "text": [
      "11:18:46 - cmdstanpy - INFO - Chain [1] start processing\n",
      "11:18:46 - cmdstanpy - INFO - Chain [1] done processing\n"
     ]
    }
   ],
   "source": [
    "model_prophet_meta = Prophet()\n",
    "\n",
    "model_prophet_meta.fit(df_train_meta)\n",
    "\n",
    "forecast_prophet_meta = model_prophet_meta.predict(df_validation_meta[[\"ds\"]])[\"yhat\"].values\n",
    "\n",
    "df_meta= pd.DataFrame()\n",
    "\n",
    "df_meta[\"ds\"] = df_validation_meta[\"ds\"]\n",
    "\n",
    "df_meta [\"prophet\"] = forecast_prophet_meta"
   ]
  },
  {
   "cell_type": "code",
   "execution_count": null,
   "metadata": {},
   "outputs": [],
   "source": []
  },
  {
   "cell_type": "code",
   "execution_count": 27,
   "metadata": {},
   "outputs": [
    {
     "name": "stderr",
     "output_type": "stream",
     "text": [
      "11:18:46 - cmdstanpy - INFO - Chain [1] start processing\n",
      "11:18:46 - cmdstanpy - INFO - Chain [1] done processing\n"
     ]
    }
   ],
   "source": [
    "model_prophet_multiva_meta = Prophet()\n",
    "\n",
    "for e in df_train_meta.columns[2:]:\n",
    "    model_prophet_multiva_meta.add_regressor(e)\n",
    "\n",
    "model_prophet_multiva_meta.fit(df_train_meta)\n",
    "\n",
    "forecast_prophet_multiva_meta = model_prophet_multiva_meta.predict(df_validation_meta.drop(columns=\"y\"))[\"yhat\"].values\n",
    "\n",
    "df_meta[\"prophet_multiva\"] = forecast_prophet_multiva_meta"
   ]
  },
  {
   "cell_type": "code",
   "execution_count": null,
   "metadata": {},
   "outputs": [],
   "source": []
  },
  {
   "cell_type": "code",
   "execution_count": 28,
   "metadata": {},
   "outputs": [
    {
     "name": "stdout",
     "output_type": "stream",
     "text": [
      "Performing stepwise search to minimize aic\n",
      " ARIMA(2,0,2)(0,0,0)[0] intercept   : AIC=268.565, Time=0.12 sec\n",
      " ARIMA(0,0,0)(0,0,0)[0] intercept   : AIC=325.069, Time=0.03 sec\n",
      " ARIMA(1,0,0)(0,0,0)[0] intercept   : AIC=278.007, Time=0.05 sec\n",
      " ARIMA(0,0,1)(0,0,0)[0] intercept   : AIC=292.544, Time=0.03 sec\n",
      " ARIMA(0,0,0)(0,0,0)[0]             : AIC=646.754, Time=0.01 sec\n",
      " ARIMA(1,0,2)(0,0,0)[0] intercept   : AIC=267.768, Time=0.08 sec\n",
      " ARIMA(0,0,2)(0,0,0)[0] intercept   : AIC=290.754, Time=0.04 sec\n",
      " ARIMA(1,0,1)(0,0,0)[0] intercept   : AIC=265.856, Time=0.06 sec\n",
      " ARIMA(2,0,1)(0,0,0)[0] intercept   : AIC=267.825, Time=0.16 sec\n",
      " ARIMA(2,0,0)(0,0,0)[0] intercept   : AIC=274.014, Time=0.07 sec\n",
      " ARIMA(1,0,1)(0,0,0)[0]             : AIC=272.651, Time=0.05 sec\n",
      "\n",
      "Best model:  ARIMA(1,0,1)(0,0,0)[0] intercept\n",
      "Total fit time: 0.719 seconds\n",
      "                               SARIMAX Results                                \n",
      "==============================================================================\n",
      "Dep. Variable:                      y   No. Observations:                  128\n",
      "Model:               SARIMAX(1, 0, 1)   Log Likelihood                -128.928\n",
      "Date:                Tue, 21 May 2024   AIC                            265.856\n",
      "Time:                        11:18:47   BIC                            277.264\n",
      "Sample:                    01-06-2020   HQIC                           270.491\n",
      "                         - 06-13-2022                                         \n",
      "Covariance Type:                  opg                                         \n",
      "==============================================================================\n",
      "                 coef    std err          z      P>|z|      [0.025      0.975]\n",
      "------------------------------------------------------------------------------\n",
      "intercept      0.3084      0.154      1.997      0.046       0.006       0.611\n",
      "ar.L1          0.8938      0.053     16.859      0.000       0.790       0.998\n",
      "ma.L1         -0.5344      0.106     -5.021      0.000      -0.743      -0.326\n",
      "sigma2         0.4367      0.060      7.292      0.000       0.319       0.554\n",
      "===================================================================================\n",
      "Ljung-Box (L1) (Q):                   0.01   Jarque-Bera (JB):                 0.60\n",
      "Prob(Q):                              0.92   Prob(JB):                         0.74\n",
      "Heteroskedasticity (H):               0.80   Skew:                            -0.03\n",
      "Prob(H) (two-sided):                  0.47   Kurtosis:                         2.67\n",
      "===================================================================================\n",
      "\n",
      "Warnings:\n",
      "[1] Covariance matrix calculated using the outer product of gradients (complex-step).\n"
     ]
    }
   ],
   "source": [
    "df_train_arima_meta = df_train_meta.copy()\n",
    "df_test_arima_meta = df_validation_meta.copy()\n",
    "\n",
    "df_train_arima_meta.set_index('ds', inplace=True)\n",
    "df_train_arima_meta = df_train_arima_meta[[\"y\"]]\n",
    "\n",
    "df_test_arima_meta.set_index('ds', inplace=True)\n",
    "df_test_arima_meta = df_test_arima_meta[[\"y\"]]\n",
    "\n",
    "# Train AutoARIMA model\n",
    "model_autoarima_meta = auto_arima(df_train_arima, \n",
    "                   seasonal=True,  # Change to True if you want to fit a seasonal ARIMA\n",
    "\n",
    "                   stepwise=True,   # Set to False to perform a more exhaustive search\n",
    "                   trace=True)      # Set to True to see the search progress\n",
    "\n",
    "# Print the best model parameters\n",
    "print(model_autoarima_meta.summary())"
   ]
  },
  {
   "cell_type": "code",
   "execution_count": 29,
   "metadata": {},
   "outputs": [],
   "source": [
    "forecast_autoarima_meta = model_autoarima_meta.predict(n_periods=df_validation_meta.shape[0]).values\n",
    "\n",
    "df_meta[\"autoarima\"] = forecast_autoarima_meta"
   ]
  },
  {
   "cell_type": "code",
   "execution_count": null,
   "metadata": {},
   "outputs": [],
   "source": []
  },
  {
   "cell_type": "code",
   "execution_count": 30,
   "metadata": {},
   "outputs": [],
   "source": [
    "df_meta[\"average_predictions\"] = df_meta[['prophet', 'prophet_multiva', 'autoarima']].mean(axis=1)"
   ]
  },
  {
   "cell_type": "code",
   "execution_count": 31,
   "metadata": {},
   "outputs": [],
   "source": [
    "df_meta[\"real_values\"] = df_validation_meta[\"y\"]"
   ]
  },
  {
   "cell_type": "code",
   "execution_count": null,
   "metadata": {},
   "outputs": [],
   "source": []
  },
  {
   "cell_type": "code",
   "execution_count": 32,
   "metadata": {},
   "outputs": [
    {
     "name": "stdout",
     "output_type": "stream",
     "text": [
      "MAPE: 21.07%\n"
     ]
    }
   ],
   "source": [
    "mape=calculate_mape(df_test[\"y\"],forecast_autoarima)\n",
    "\n",
    "print(f'MAPE: {mape:.2f}%')"
   ]
  },
  {
   "cell_type": "code",
   "execution_count": 33,
   "metadata": {},
   "outputs": [
    {
     "name": "stdout",
     "output_type": "stream",
     "text": [
      "MAPE of prophet: 27.26%\n",
      "MAPE of prophet_multiva: 18.22%\n",
      "MAPE of autoarima: 21.16%\n",
      "MAPE of average_predictions: 20.45%\n"
     ]
    }
   ],
   "source": [
    "for e in df_meta.columns[1:-1]:\n",
    "    mape=calculate_mape(df_meta[\"real_values\"],df_meta[e])\n",
    "    print(f'MAPE of {e}: {mape:.2f}%')"
   ]
  },
  {
   "cell_type": "code",
   "execution_count": null,
   "metadata": {},
   "outputs": [],
   "source": []
  },
  {
   "cell_type": "markdown",
   "metadata": {},
   "source": [
    "# 6. Ensembling (Training Linear Regresion)"
   ]
  },
  {
   "cell_type": "code",
   "execution_count": 34,
   "metadata": {},
   "outputs": [],
   "source": [
    "from sklearn.linear_model import LinearRegression\n",
    "from sklearn.metrics import mean_squared_error, r2_score"
   ]
  },
  {
   "cell_type": "code",
   "execution_count": 35,
   "metadata": {},
   "outputs": [],
   "source": [
    "df_meta = df_meta.reset_index(drop=True)"
   ]
  },
  {
   "cell_type": "code",
   "execution_count": 36,
   "metadata": {},
   "outputs": [],
   "source": [
    "lr = LinearRegression()"
   ]
  },
  {
   "cell_type": "code",
   "execution_count": 87,
   "metadata": {},
   "outputs": [],
   "source": [
    "lim=int(df_meta.shape[0]*0.7)\n",
    "X_train = df_meta[[\"prophet\", \"prophet_multiva\", \"autoarima\"]].iloc[:lim]\n",
    "y_train = df_meta [[\"real_values\"]].iloc[:lim]\n",
    "\n",
    "X_test=df_meta[[\"prophet\", \"prophet_multiva\", \"autoarima\"]].iloc[lim:]\n",
    "y_test = df_meta [[\"real_values\"]].iloc[lim:]"
   ]
  },
  {
   "cell_type": "code",
   "execution_count": 89,
   "metadata": {
    "scrolled": true
   },
   "outputs": [
    {
     "data": {
      "text/html": [
       "<div>\n",
       "<style scoped>\n",
       "    .dataframe tbody tr th:only-of-type {\n",
       "        vertical-align: middle;\n",
       "    }\n",
       "\n",
       "    .dataframe tbody tr th {\n",
       "        vertical-align: top;\n",
       "    }\n",
       "\n",
       "    .dataframe thead th {\n",
       "        text-align: right;\n",
       "    }\n",
       "</style>\n",
       "<table border=\"1\" class=\"dataframe\">\n",
       "  <thead>\n",
       "    <tr style=\"text-align: right;\">\n",
       "      <th></th>\n",
       "      <th>ds</th>\n",
       "      <th>prophet</th>\n",
       "      <th>prophet_multiva</th>\n",
       "      <th>autoarima</th>\n",
       "      <th>average_predictions</th>\n",
       "      <th>real_values</th>\n",
       "    </tr>\n",
       "  </thead>\n",
       "  <tbody>\n",
       "    <tr>\n",
       "      <th>0</th>\n",
       "      <td>2021-06-21</td>\n",
       "      <td>2.519878</td>\n",
       "      <td>2.296073</td>\n",
       "      <td>2.579606</td>\n",
       "      <td>2.465185</td>\n",
       "      <td>2.189091</td>\n",
       "    </tr>\n",
       "    <tr>\n",
       "      <th>1</th>\n",
       "      <td>2021-06-28</td>\n",
       "      <td>2.515586</td>\n",
       "      <td>2.241079</td>\n",
       "      <td>2.613922</td>\n",
       "      <td>2.456862</td>\n",
       "      <td>2.053776</td>\n",
       "    </tr>\n",
       "    <tr>\n",
       "      <th>2</th>\n",
       "      <td>2021-07-05</td>\n",
       "      <td>2.511294</td>\n",
       "      <td>2.375948</td>\n",
       "      <td>2.644592</td>\n",
       "      <td>2.510611</td>\n",
       "      <td>3.450657</td>\n",
       "    </tr>\n",
       "    <tr>\n",
       "      <th>3</th>\n",
       "      <td>2021-07-12</td>\n",
       "      <td>2.507003</td>\n",
       "      <td>2.546921</td>\n",
       "      <td>2.672004</td>\n",
       "      <td>2.575309</td>\n",
       "      <td>2.555231</td>\n",
       "    </tr>\n",
       "    <tr>\n",
       "      <th>4</th>\n",
       "      <td>2021-07-19</td>\n",
       "      <td>2.502711</td>\n",
       "      <td>2.155432</td>\n",
       "      <td>2.696504</td>\n",
       "      <td>2.451549</td>\n",
       "      <td>1.966881</td>\n",
       "    </tr>\n",
       "    <tr>\n",
       "      <th>5</th>\n",
       "      <td>2021-07-26</td>\n",
       "      <td>2.498419</td>\n",
       "      <td>2.448137</td>\n",
       "      <td>2.718401</td>\n",
       "      <td>2.554986</td>\n",
       "      <td>1.333078</td>\n",
       "    </tr>\n",
       "    <tr>\n",
       "      <th>6</th>\n",
       "      <td>2021-08-02</td>\n",
       "      <td>2.494127</td>\n",
       "      <td>2.430990</td>\n",
       "      <td>2.737972</td>\n",
       "      <td>2.554363</td>\n",
       "      <td>2.489611</td>\n",
       "    </tr>\n",
       "    <tr>\n",
       "      <th>7</th>\n",
       "      <td>2021-08-09</td>\n",
       "      <td>2.489836</td>\n",
       "      <td>2.352727</td>\n",
       "      <td>2.755464</td>\n",
       "      <td>2.532676</td>\n",
       "      <td>1.828494</td>\n",
       "    </tr>\n",
       "    <tr>\n",
       "      <th>8</th>\n",
       "      <td>2021-08-16</td>\n",
       "      <td>2.485544</td>\n",
       "      <td>2.667610</td>\n",
       "      <td>2.771098</td>\n",
       "      <td>2.641417</td>\n",
       "      <td>2.112152</td>\n",
       "    </tr>\n",
       "    <tr>\n",
       "      <th>9</th>\n",
       "      <td>2021-08-23</td>\n",
       "      <td>2.481252</td>\n",
       "      <td>2.486315</td>\n",
       "      <td>2.785070</td>\n",
       "      <td>2.584212</td>\n",
       "      <td>2.578539</td>\n",
       "    </tr>\n",
       "    <tr>\n",
       "      <th>10</th>\n",
       "      <td>2021-08-30</td>\n",
       "      <td>2.476960</td>\n",
       "      <td>2.869805</td>\n",
       "      <td>2.797559</td>\n",
       "      <td>2.714775</td>\n",
       "      <td>2.928030</td>\n",
       "    </tr>\n",
       "    <tr>\n",
       "      <th>11</th>\n",
       "      <td>2021-09-06</td>\n",
       "      <td>2.472669</td>\n",
       "      <td>2.394885</td>\n",
       "      <td>2.808720</td>\n",
       "      <td>2.558758</td>\n",
       "      <td>4.110657</td>\n",
       "    </tr>\n",
       "    <tr>\n",
       "      <th>12</th>\n",
       "      <td>2021-09-13</td>\n",
       "      <td>2.468377</td>\n",
       "      <td>2.779259</td>\n",
       "      <td>2.818696</td>\n",
       "      <td>2.688777</td>\n",
       "      <td>3.620241</td>\n",
       "    </tr>\n",
       "    <tr>\n",
       "      <th>13</th>\n",
       "      <td>2021-09-20</td>\n",
       "      <td>2.464085</td>\n",
       "      <td>2.455527</td>\n",
       "      <td>2.827612</td>\n",
       "      <td>2.582408</td>\n",
       "      <td>3.449925</td>\n",
       "    </tr>\n",
       "    <tr>\n",
       "      <th>14</th>\n",
       "      <td>2021-09-27</td>\n",
       "      <td>2.459793</td>\n",
       "      <td>2.709490</td>\n",
       "      <td>2.835581</td>\n",
       "      <td>2.668288</td>\n",
       "      <td>4.218903</td>\n",
       "    </tr>\n",
       "    <tr>\n",
       "      <th>15</th>\n",
       "      <td>2021-10-04</td>\n",
       "      <td>2.455502</td>\n",
       "      <td>2.859596</td>\n",
       "      <td>2.842704</td>\n",
       "      <td>2.719267</td>\n",
       "      <td>3.867801</td>\n",
       "    </tr>\n",
       "    <tr>\n",
       "      <th>16</th>\n",
       "      <td>2021-10-11</td>\n",
       "      <td>2.451210</td>\n",
       "      <td>2.859708</td>\n",
       "      <td>2.849069</td>\n",
       "      <td>2.719996</td>\n",
       "      <td>4.060850</td>\n",
       "    </tr>\n",
       "    <tr>\n",
       "      <th>17</th>\n",
       "      <td>2021-10-18</td>\n",
       "      <td>2.446918</td>\n",
       "      <td>3.555005</td>\n",
       "      <td>2.854759</td>\n",
       "      <td>2.952227</td>\n",
       "      <td>3.648670</td>\n",
       "    </tr>\n",
       "    <tr>\n",
       "      <th>18</th>\n",
       "      <td>2021-10-25</td>\n",
       "      <td>2.442626</td>\n",
       "      <td>3.210527</td>\n",
       "      <td>2.859844</td>\n",
       "      <td>2.837666</td>\n",
       "      <td>2.786431</td>\n",
       "    </tr>\n",
       "    <tr>\n",
       "      <th>19</th>\n",
       "      <td>2021-11-01</td>\n",
       "      <td>2.438335</td>\n",
       "      <td>3.047000</td>\n",
       "      <td>2.864388</td>\n",
       "      <td>2.783241</td>\n",
       "      <td>3.466432</td>\n",
       "    </tr>\n",
       "    <tr>\n",
       "      <th>20</th>\n",
       "      <td>2021-11-08</td>\n",
       "      <td>2.434043</td>\n",
       "      <td>3.122569</td>\n",
       "      <td>2.868450</td>\n",
       "      <td>2.808354</td>\n",
       "      <td>4.317944</td>\n",
       "    </tr>\n",
       "    <tr>\n",
       "      <th>21</th>\n",
       "      <td>2021-11-15</td>\n",
       "      <td>2.429751</td>\n",
       "      <td>2.950953</td>\n",
       "      <td>2.872081</td>\n",
       "      <td>2.750928</td>\n",
       "      <td>4.496338</td>\n",
       "    </tr>\n",
       "    <tr>\n",
       "      <th>22</th>\n",
       "      <td>2021-11-22</td>\n",
       "      <td>2.425459</td>\n",
       "      <td>3.031632</td>\n",
       "      <td>2.875326</td>\n",
       "      <td>2.777472</td>\n",
       "      <td>2.794004</td>\n",
       "    </tr>\n",
       "    <tr>\n",
       "      <th>23</th>\n",
       "      <td>2021-11-29</td>\n",
       "      <td>2.421168</td>\n",
       "      <td>2.882023</td>\n",
       "      <td>2.878226</td>\n",
       "      <td>2.727139</td>\n",
       "      <td>3.300049</td>\n",
       "    </tr>\n",
       "    <tr>\n",
       "      <th>24</th>\n",
       "      <td>2021-12-06</td>\n",
       "      <td>2.416876</td>\n",
       "      <td>2.713809</td>\n",
       "      <td>2.880818</td>\n",
       "      <td>2.670501</td>\n",
       "      <td>4.605293</td>\n",
       "    </tr>\n",
       "    <tr>\n",
       "      <th>25</th>\n",
       "      <td>2021-12-13</td>\n",
       "      <td>2.412584</td>\n",
       "      <td>2.712311</td>\n",
       "      <td>2.883134</td>\n",
       "      <td>2.669343</td>\n",
       "      <td>3.719571</td>\n",
       "    </tr>\n",
       "    <tr>\n",
       "      <th>26</th>\n",
       "      <td>2021-12-20</td>\n",
       "      <td>2.408292</td>\n",
       "      <td>2.557138</td>\n",
       "      <td>2.885205</td>\n",
       "      <td>2.616878</td>\n",
       "      <td>2.404140</td>\n",
       "    </tr>\n",
       "    <tr>\n",
       "      <th>27</th>\n",
       "      <td>2021-12-27</td>\n",
       "      <td>2.404001</td>\n",
       "      <td>2.770248</td>\n",
       "      <td>2.887055</td>\n",
       "      <td>2.687101</td>\n",
       "      <td>2.902605</td>\n",
       "    </tr>\n",
       "    <tr>\n",
       "      <th>28</th>\n",
       "      <td>2022-01-03</td>\n",
       "      <td>2.399709</td>\n",
       "      <td>3.427552</td>\n",
       "      <td>2.888709</td>\n",
       "      <td>2.905323</td>\n",
       "      <td>3.618421</td>\n",
       "    </tr>\n",
       "    <tr>\n",
       "      <th>29</th>\n",
       "      <td>2022-01-10</td>\n",
       "      <td>2.395417</td>\n",
       "      <td>3.276987</td>\n",
       "      <td>2.890188</td>\n",
       "      <td>2.854197</td>\n",
       "      <td>3.619560</td>\n",
       "    </tr>\n",
       "    <tr>\n",
       "      <th>30</th>\n",
       "      <td>2022-01-17</td>\n",
       "      <td>2.391125</td>\n",
       "      <td>3.351305</td>\n",
       "      <td>2.891509</td>\n",
       "      <td>2.877980</td>\n",
       "      <td>3.638076</td>\n",
       "    </tr>\n",
       "    <tr>\n",
       "      <th>31</th>\n",
       "      <td>2022-01-24</td>\n",
       "      <td>2.386834</td>\n",
       "      <td>3.545527</td>\n",
       "      <td>2.892690</td>\n",
       "      <td>2.941684</td>\n",
       "      <td>3.830586</td>\n",
       "    </tr>\n",
       "    <tr>\n",
       "      <th>32</th>\n",
       "      <td>2022-01-31</td>\n",
       "      <td>2.382542</td>\n",
       "      <td>2.848434</td>\n",
       "      <td>2.893745</td>\n",
       "      <td>2.708241</td>\n",
       "      <td>3.236615</td>\n",
       "    </tr>\n",
       "    <tr>\n",
       "      <th>33</th>\n",
       "      <td>2022-02-07</td>\n",
       "      <td>2.378250</td>\n",
       "      <td>3.105325</td>\n",
       "      <td>2.894688</td>\n",
       "      <td>2.792754</td>\n",
       "      <td>3.237224</td>\n",
       "    </tr>\n",
       "    <tr>\n",
       "      <th>34</th>\n",
       "      <td>2022-02-14</td>\n",
       "      <td>2.373958</td>\n",
       "      <td>3.934918</td>\n",
       "      <td>2.895531</td>\n",
       "      <td>3.068136</td>\n",
       "      <td>3.610253</td>\n",
       "    </tr>\n",
       "    <tr>\n",
       "      <th>35</th>\n",
       "      <td>2022-02-21</td>\n",
       "      <td>2.369667</td>\n",
       "      <td>3.113785</td>\n",
       "      <td>2.896285</td>\n",
       "      <td>2.793246</td>\n",
       "      <td>3.155775</td>\n",
       "    </tr>\n",
       "    <tr>\n",
       "      <th>36</th>\n",
       "      <td>2022-02-28</td>\n",
       "      <td>2.365375</td>\n",
       "      <td>4.015924</td>\n",
       "      <td>2.896958</td>\n",
       "      <td>3.092753</td>\n",
       "      <td>4.352878</td>\n",
       "    </tr>\n",
       "    <tr>\n",
       "      <th>37</th>\n",
       "      <td>2022-03-07</td>\n",
       "      <td>2.361083</td>\n",
       "      <td>4.033482</td>\n",
       "      <td>2.897560</td>\n",
       "      <td>3.097375</td>\n",
       "      <td>2.816763</td>\n",
       "    </tr>\n",
       "    <tr>\n",
       "      <th>38</th>\n",
       "      <td>2022-03-14</td>\n",
       "      <td>2.356791</td>\n",
       "      <td>4.388337</td>\n",
       "      <td>2.898098</td>\n",
       "      <td>3.214409</td>\n",
       "      <td>3.471907</td>\n",
       "    </tr>\n",
       "    <tr>\n",
       "      <th>39</th>\n",
       "      <td>2022-03-21</td>\n",
       "      <td>2.352500</td>\n",
       "      <td>3.890787</td>\n",
       "      <td>2.898579</td>\n",
       "      <td>3.047289</td>\n",
       "      <td>4.322158</td>\n",
       "    </tr>\n",
       "    <tr>\n",
       "      <th>40</th>\n",
       "      <td>2022-03-28</td>\n",
       "      <td>2.348208</td>\n",
       "      <td>4.452024</td>\n",
       "      <td>2.899009</td>\n",
       "      <td>3.233080</td>\n",
       "      <td>2.744224</td>\n",
       "    </tr>\n",
       "    <tr>\n",
       "      <th>41</th>\n",
       "      <td>2022-04-04</td>\n",
       "      <td>2.343916</td>\n",
       "      <td>3.466640</td>\n",
       "      <td>2.899393</td>\n",
       "      <td>2.903316</td>\n",
       "      <td>3.479019</td>\n",
       "    </tr>\n",
       "    <tr>\n",
       "      <th>42</th>\n",
       "      <td>2022-04-11</td>\n",
       "      <td>2.339624</td>\n",
       "      <td>3.730206</td>\n",
       "      <td>2.899736</td>\n",
       "      <td>2.989856</td>\n",
       "      <td>3.553066</td>\n",
       "    </tr>\n",
       "    <tr>\n",
       "      <th>43</th>\n",
       "      <td>2022-04-18</td>\n",
       "      <td>2.335333</td>\n",
       "      <td>3.439278</td>\n",
       "      <td>2.900043</td>\n",
       "      <td>2.891551</td>\n",
       "      <td>2.752493</td>\n",
       "    </tr>\n",
       "    <tr>\n",
       "      <th>44</th>\n",
       "      <td>2022-04-25</td>\n",
       "      <td>2.331041</td>\n",
       "      <td>2.988339</td>\n",
       "      <td>2.900317</td>\n",
       "      <td>2.739899</td>\n",
       "      <td>2.965509</td>\n",
       "    </tr>\n",
       "    <tr>\n",
       "      <th>45</th>\n",
       "      <td>2022-05-02</td>\n",
       "      <td>2.326749</td>\n",
       "      <td>3.125669</td>\n",
       "      <td>2.900562</td>\n",
       "      <td>2.784327</td>\n",
       "      <td>3.780698</td>\n",
       "    </tr>\n",
       "    <tr>\n",
       "      <th>46</th>\n",
       "      <td>2022-05-09</td>\n",
       "      <td>2.322457</td>\n",
       "      <td>2.481227</td>\n",
       "      <td>2.900781</td>\n",
       "      <td>2.568155</td>\n",
       "      <td>2.700131</td>\n",
       "    </tr>\n",
       "    <tr>\n",
       "      <th>47</th>\n",
       "      <td>2022-05-16</td>\n",
       "      <td>2.318166</td>\n",
       "      <td>2.357772</td>\n",
       "      <td>2.900977</td>\n",
       "      <td>2.525638</td>\n",
       "      <td>1.877216</td>\n",
       "    </tr>\n",
       "    <tr>\n",
       "      <th>48</th>\n",
       "      <td>2022-05-23</td>\n",
       "      <td>2.313874</td>\n",
       "      <td>2.715483</td>\n",
       "      <td>2.901152</td>\n",
       "      <td>2.643503</td>\n",
       "      <td>2.989111</td>\n",
       "    </tr>\n",
       "    <tr>\n",
       "      <th>49</th>\n",
       "      <td>2022-05-30</td>\n",
       "      <td>2.309582</td>\n",
       "      <td>3.074739</td>\n",
       "      <td>2.901309</td>\n",
       "      <td>2.761877</td>\n",
       "      <td>3.002538</td>\n",
       "    </tr>\n",
       "    <tr>\n",
       "      <th>50</th>\n",
       "      <td>2022-06-06</td>\n",
       "      <td>2.305290</td>\n",
       "      <td>2.721660</td>\n",
       "      <td>2.901448</td>\n",
       "      <td>2.642800</td>\n",
       "      <td>2.186763</td>\n",
       "    </tr>\n",
       "    <tr>\n",
       "      <th>51</th>\n",
       "      <td>2022-06-13</td>\n",
       "      <td>2.300999</td>\n",
       "      <td>3.478630</td>\n",
       "      <td>2.901573</td>\n",
       "      <td>2.893734</td>\n",
       "      <td>2.412533</td>\n",
       "    </tr>\n",
       "  </tbody>\n",
       "</table>\n",
       "</div>"
      ],
      "text/plain": [
       "            ds   prophet  prophet_multiva  autoarima  average_predictions  \\\n",
       "0   2021-06-21  2.519878         2.296073   2.579606             2.465185   \n",
       "1   2021-06-28  2.515586         2.241079   2.613922             2.456862   \n",
       "2   2021-07-05  2.511294         2.375948   2.644592             2.510611   \n",
       "3   2021-07-12  2.507003         2.546921   2.672004             2.575309   \n",
       "4   2021-07-19  2.502711         2.155432   2.696504             2.451549   \n",
       "5   2021-07-26  2.498419         2.448137   2.718401             2.554986   \n",
       "6   2021-08-02  2.494127         2.430990   2.737972             2.554363   \n",
       "7   2021-08-09  2.489836         2.352727   2.755464             2.532676   \n",
       "8   2021-08-16  2.485544         2.667610   2.771098             2.641417   \n",
       "9   2021-08-23  2.481252         2.486315   2.785070             2.584212   \n",
       "10  2021-08-30  2.476960         2.869805   2.797559             2.714775   \n",
       "11  2021-09-06  2.472669         2.394885   2.808720             2.558758   \n",
       "12  2021-09-13  2.468377         2.779259   2.818696             2.688777   \n",
       "13  2021-09-20  2.464085         2.455527   2.827612             2.582408   \n",
       "14  2021-09-27  2.459793         2.709490   2.835581             2.668288   \n",
       "15  2021-10-04  2.455502         2.859596   2.842704             2.719267   \n",
       "16  2021-10-11  2.451210         2.859708   2.849069             2.719996   \n",
       "17  2021-10-18  2.446918         3.555005   2.854759             2.952227   \n",
       "18  2021-10-25  2.442626         3.210527   2.859844             2.837666   \n",
       "19  2021-11-01  2.438335         3.047000   2.864388             2.783241   \n",
       "20  2021-11-08  2.434043         3.122569   2.868450             2.808354   \n",
       "21  2021-11-15  2.429751         2.950953   2.872081             2.750928   \n",
       "22  2021-11-22  2.425459         3.031632   2.875326             2.777472   \n",
       "23  2021-11-29  2.421168         2.882023   2.878226             2.727139   \n",
       "24  2021-12-06  2.416876         2.713809   2.880818             2.670501   \n",
       "25  2021-12-13  2.412584         2.712311   2.883134             2.669343   \n",
       "26  2021-12-20  2.408292         2.557138   2.885205             2.616878   \n",
       "27  2021-12-27  2.404001         2.770248   2.887055             2.687101   \n",
       "28  2022-01-03  2.399709         3.427552   2.888709             2.905323   \n",
       "29  2022-01-10  2.395417         3.276987   2.890188             2.854197   \n",
       "30  2022-01-17  2.391125         3.351305   2.891509             2.877980   \n",
       "31  2022-01-24  2.386834         3.545527   2.892690             2.941684   \n",
       "32  2022-01-31  2.382542         2.848434   2.893745             2.708241   \n",
       "33  2022-02-07  2.378250         3.105325   2.894688             2.792754   \n",
       "34  2022-02-14  2.373958         3.934918   2.895531             3.068136   \n",
       "35  2022-02-21  2.369667         3.113785   2.896285             2.793246   \n",
       "36  2022-02-28  2.365375         4.015924   2.896958             3.092753   \n",
       "37  2022-03-07  2.361083         4.033482   2.897560             3.097375   \n",
       "38  2022-03-14  2.356791         4.388337   2.898098             3.214409   \n",
       "39  2022-03-21  2.352500         3.890787   2.898579             3.047289   \n",
       "40  2022-03-28  2.348208         4.452024   2.899009             3.233080   \n",
       "41  2022-04-04  2.343916         3.466640   2.899393             2.903316   \n",
       "42  2022-04-11  2.339624         3.730206   2.899736             2.989856   \n",
       "43  2022-04-18  2.335333         3.439278   2.900043             2.891551   \n",
       "44  2022-04-25  2.331041         2.988339   2.900317             2.739899   \n",
       "45  2022-05-02  2.326749         3.125669   2.900562             2.784327   \n",
       "46  2022-05-09  2.322457         2.481227   2.900781             2.568155   \n",
       "47  2022-05-16  2.318166         2.357772   2.900977             2.525638   \n",
       "48  2022-05-23  2.313874         2.715483   2.901152             2.643503   \n",
       "49  2022-05-30  2.309582         3.074739   2.901309             2.761877   \n",
       "50  2022-06-06  2.305290         2.721660   2.901448             2.642800   \n",
       "51  2022-06-13  2.300999         3.478630   2.901573             2.893734   \n",
       "\n",
       "    real_values  \n",
       "0      2.189091  \n",
       "1      2.053776  \n",
       "2      3.450657  \n",
       "3      2.555231  \n",
       "4      1.966881  \n",
       "5      1.333078  \n",
       "6      2.489611  \n",
       "7      1.828494  \n",
       "8      2.112152  \n",
       "9      2.578539  \n",
       "10     2.928030  \n",
       "11     4.110657  \n",
       "12     3.620241  \n",
       "13     3.449925  \n",
       "14     4.218903  \n",
       "15     3.867801  \n",
       "16     4.060850  \n",
       "17     3.648670  \n",
       "18     2.786431  \n",
       "19     3.466432  \n",
       "20     4.317944  \n",
       "21     4.496338  \n",
       "22     2.794004  \n",
       "23     3.300049  \n",
       "24     4.605293  \n",
       "25     3.719571  \n",
       "26     2.404140  \n",
       "27     2.902605  \n",
       "28     3.618421  \n",
       "29     3.619560  \n",
       "30     3.638076  \n",
       "31     3.830586  \n",
       "32     3.236615  \n",
       "33     3.237224  \n",
       "34     3.610253  \n",
       "35     3.155775  \n",
       "36     4.352878  \n",
       "37     2.816763  \n",
       "38     3.471907  \n",
       "39     4.322158  \n",
       "40     2.744224  \n",
       "41     3.479019  \n",
       "42     3.553066  \n",
       "43     2.752493  \n",
       "44     2.965509  \n",
       "45     3.780698  \n",
       "46     2.700131  \n",
       "47     1.877216  \n",
       "48     2.989111  \n",
       "49     3.002538  \n",
       "50     2.186763  \n",
       "51     2.412533  "
      ]
     },
     "execution_count": 89,
     "metadata": {},
     "output_type": "execute_result"
    }
   ],
   "source": [
    "df_meta"
   ]
  },
  {
   "cell_type": "code",
   "execution_count": 38,
   "metadata": {},
   "outputs": [],
   "source": [
    "lr.fit(X_train, y_train)\n",
    "\n",
    "y_pred = lr.predict(X_test)"
   ]
  },
  {
   "cell_type": "code",
   "execution_count": 39,
   "metadata": {},
   "outputs": [
    {
     "name": "stdout",
     "output_type": "stream",
     "text": [
      "Mean Squared Error: 0.3515840287877502\n",
      "R^2 Score: 0.23368631676424279\n"
     ]
    }
   ],
   "source": [
    "mse = mean_squared_error(y_test, y_pred)\n",
    "r2 = r2_score(y_test, y_pred)\n",
    "\n",
    "print(f'Mean Squared Error: {mse}')\n",
    "print(f'R^2 Score: {r2}')"
   ]
  },
  {
   "cell_type": "code",
   "execution_count": 40,
   "metadata": {},
   "outputs": [
    {
     "name": "stdout",
     "output_type": "stream",
     "text": [
      "Mean Squared Error: 0.39001008221362243\n",
      "R^2 Score: 0.38343398507475457\n"
     ]
    }
   ],
   "source": [
    "y_pred = lr.predict(X_train)\n",
    "mse = mean_squared_error(y_train, y_pred)\n",
    "r2 = r2_score(y_train, y_pred)\n",
    "\n",
    "print(f'Mean Squared Error: {mse}')\n",
    "print(f'R^2 Score: {r2}')"
   ]
  },
  {
   "cell_type": "code",
   "execution_count": null,
   "metadata": {},
   "outputs": [],
   "source": []
  },
  {
   "cell_type": "code",
   "execution_count": null,
   "metadata": {},
   "outputs": [],
   "source": []
  },
  {
   "cell_type": "code",
   "execution_count": null,
   "metadata": {},
   "outputs": [],
   "source": []
  },
  {
   "cell_type": "markdown",
   "metadata": {},
   "source": [
    "# 7. Final Predictions"
   ]
  },
  {
   "cell_type": "code",
   "execution_count": 41,
   "metadata": {},
   "outputs": [],
   "source": [
    "df_final_predictions[\"average_predictions\"] = df_final_predictions[['prophet', 'prophet_multiva', 'autoarima']].mean(axis=1)"
   ]
  },
  {
   "cell_type": "code",
   "execution_count": 42,
   "metadata": {},
   "outputs": [],
   "source": [
    "testing_X = df_final_predictions[['prophet', 'prophet_multiva', 'autoarima']]"
   ]
  },
  {
   "cell_type": "code",
   "execution_count": 43,
   "metadata": {},
   "outputs": [],
   "source": [
    "# We decide to train the algorithm with full data of the validation"
   ]
  },
  {
   "cell_type": "code",
   "execution_count": 44,
   "metadata": {},
   "outputs": [
    {
     "data": {
      "text/html": [
       "<style>#sk-container-id-1 {color: black;background-color: white;}#sk-container-id-1 pre{padding: 0;}#sk-container-id-1 div.sk-toggleable {background-color: white;}#sk-container-id-1 label.sk-toggleable__label {cursor: pointer;display: block;width: 100%;margin-bottom: 0;padding: 0.3em;box-sizing: border-box;text-align: center;}#sk-container-id-1 label.sk-toggleable__label-arrow:before {content: \"▸\";float: left;margin-right: 0.25em;color: #696969;}#sk-container-id-1 label.sk-toggleable__label-arrow:hover:before {color: black;}#sk-container-id-1 div.sk-estimator:hover label.sk-toggleable__label-arrow:before {color: black;}#sk-container-id-1 div.sk-toggleable__content {max-height: 0;max-width: 0;overflow: hidden;text-align: left;background-color: #f0f8ff;}#sk-container-id-1 div.sk-toggleable__content pre {margin: 0.2em;color: black;border-radius: 0.25em;background-color: #f0f8ff;}#sk-container-id-1 input.sk-toggleable__control:checked~div.sk-toggleable__content {max-height: 200px;max-width: 100%;overflow: auto;}#sk-container-id-1 input.sk-toggleable__control:checked~label.sk-toggleable__label-arrow:before {content: \"▾\";}#sk-container-id-1 div.sk-estimator input.sk-toggleable__control:checked~label.sk-toggleable__label {background-color: #d4ebff;}#sk-container-id-1 div.sk-label input.sk-toggleable__control:checked~label.sk-toggleable__label {background-color: #d4ebff;}#sk-container-id-1 input.sk-hidden--visually {border: 0;clip: rect(1px 1px 1px 1px);clip: rect(1px, 1px, 1px, 1px);height: 1px;margin: -1px;overflow: hidden;padding: 0;position: absolute;width: 1px;}#sk-container-id-1 div.sk-estimator {font-family: monospace;background-color: #f0f8ff;border: 1px dotted black;border-radius: 0.25em;box-sizing: border-box;margin-bottom: 0.5em;}#sk-container-id-1 div.sk-estimator:hover {background-color: #d4ebff;}#sk-container-id-1 div.sk-parallel-item::after {content: \"\";width: 100%;border-bottom: 1px solid gray;flex-grow: 1;}#sk-container-id-1 div.sk-label:hover label.sk-toggleable__label {background-color: #d4ebff;}#sk-container-id-1 div.sk-serial::before {content: \"\";position: absolute;border-left: 1px solid gray;box-sizing: border-box;top: 0;bottom: 0;left: 50%;z-index: 0;}#sk-container-id-1 div.sk-serial {display: flex;flex-direction: column;align-items: center;background-color: white;padding-right: 0.2em;padding-left: 0.2em;position: relative;}#sk-container-id-1 div.sk-item {position: relative;z-index: 1;}#sk-container-id-1 div.sk-parallel {display: flex;align-items: stretch;justify-content: center;background-color: white;position: relative;}#sk-container-id-1 div.sk-item::before, #sk-container-id-1 div.sk-parallel-item::before {content: \"\";position: absolute;border-left: 1px solid gray;box-sizing: border-box;top: 0;bottom: 0;left: 50%;z-index: -1;}#sk-container-id-1 div.sk-parallel-item {display: flex;flex-direction: column;z-index: 1;position: relative;background-color: white;}#sk-container-id-1 div.sk-parallel-item:first-child::after {align-self: flex-end;width: 50%;}#sk-container-id-1 div.sk-parallel-item:last-child::after {align-self: flex-start;width: 50%;}#sk-container-id-1 div.sk-parallel-item:only-child::after {width: 0;}#sk-container-id-1 div.sk-dashed-wrapped {border: 1px dashed gray;margin: 0 0.4em 0.5em 0.4em;box-sizing: border-box;padding-bottom: 0.4em;background-color: white;}#sk-container-id-1 div.sk-label label {font-family: monospace;font-weight: bold;display: inline-block;line-height: 1.2em;}#sk-container-id-1 div.sk-label-container {text-align: center;}#sk-container-id-1 div.sk-container {/* jupyter's `normalize.less` sets `[hidden] { display: none; }` but bootstrap.min.css set `[hidden] { display: none !important; }` so we also need the `!important` here to be able to override the default hidden behavior on the sphinx rendered scikit-learn.org. See: https://github.com/scikit-learn/scikit-learn/issues/21755 */display: inline-block !important;position: relative;}#sk-container-id-1 div.sk-text-repr-fallback {display: none;}</style><div id=\"sk-container-id-1\" class=\"sk-top-container\"><div class=\"sk-text-repr-fallback\"><pre>LinearRegression()</pre><b>In a Jupyter environment, please rerun this cell to show the HTML representation or trust the notebook. <br />On GitHub, the HTML representation is unable to render, please try loading this page with nbviewer.org.</b></div><div class=\"sk-container\" hidden><div class=\"sk-item\"><div class=\"sk-estimator sk-toggleable\"><input class=\"sk-toggleable__control sk-hidden--visually\" id=\"sk-estimator-id-1\" type=\"checkbox\" checked><label for=\"sk-estimator-id-1\" class=\"sk-toggleable__label sk-toggleable__label-arrow\">LinearRegression</label><div class=\"sk-toggleable__content\"><pre>LinearRegression()</pre></div></div></div></div></div>"
      ],
      "text/plain": [
       "LinearRegression()"
      ]
     },
     "execution_count": 44,
     "metadata": {},
     "output_type": "execute_result"
    }
   ],
   "source": [
    "X_train = df_meta[[\"prophet\", \"prophet_multiva\", \"autoarima\"]]\n",
    "y_train = df_meta [[\"real_values\"]]\n",
    "lr.fit(X_train, y_train)"
   ]
  },
  {
   "cell_type": "code",
   "execution_count": 45,
   "metadata": {},
   "outputs": [],
   "source": [
    "lr_predictions = lr.predict(testing_X)"
   ]
  },
  {
   "cell_type": "code",
   "execution_count": 46,
   "metadata": {},
   "outputs": [],
   "source": [
    "df_final_predictions[\"lr_predictions\"] = lr_predictions"
   ]
  },
  {
   "cell_type": "code",
   "execution_count": 47,
   "metadata": {},
   "outputs": [
    {
     "name": "stdout",
     "output_type": "stream",
     "text": [
      "Coefficients: [[8.6365826  0.39039091 8.07040303]]\n",
      "Intercept: [-41.78173911]\n"
     ]
    }
   ],
   "source": [
    "print('Coefficients:', lr.coef_)\n",
    "print('Intercept:', lr.intercept_)"
   ]
  },
  {
   "cell_type": "code",
   "execution_count": 48,
   "metadata": {},
   "outputs": [
    {
     "name": "stdout",
     "output_type": "stream",
     "text": [
      "MAPE of prophet: 21.35%\n",
      "MAPE of prophet_multiva: 21.87%\n",
      "MAPE of autoarima: 21.07%\n",
      "MAPE of average_predictions: 17.84%\n",
      "MAPE of lr_predictions: 289.60%\n"
     ]
    }
   ],
   "source": [
    "for e in df_final_predictions.columns[1:]:\n",
    "    mape=calculate_mape(df_test[\"y\"],df_final_predictions[e])\n",
    "    print(f'MAPE of {e}: {mape:.2f}%')"
   ]
  },
  {
   "cell_type": "code",
   "execution_count": 50,
   "metadata": {},
   "outputs": [
    {
     "data": {
      "text/html": [
       "<div>\n",
       "<style scoped>\n",
       "    .dataframe tbody tr th:only-of-type {\n",
       "        vertical-align: middle;\n",
       "    }\n",
       "\n",
       "    .dataframe tbody tr th {\n",
       "        vertical-align: top;\n",
       "    }\n",
       "\n",
       "    .dataframe thead th {\n",
       "        text-align: right;\n",
       "    }\n",
       "</style>\n",
       "<table border=\"1\" class=\"dataframe\">\n",
       "  <thead>\n",
       "    <tr style=\"text-align: right;\">\n",
       "      <th></th>\n",
       "      <th>ds</th>\n",
       "      <th>prophet</th>\n",
       "      <th>prophet_multiva</th>\n",
       "      <th>autoarima</th>\n",
       "      <th>average_predictions</th>\n",
       "      <th>lr_predictions</th>\n",
       "    </tr>\n",
       "  </thead>\n",
       "  <tbody>\n",
       "    <tr>\n",
       "      <th>128</th>\n",
       "      <td>2022-06-20</td>\n",
       "      <td>2.643313</td>\n",
       "      <td>2.753302</td>\n",
       "      <td>2.579606</td>\n",
       "      <td>2.658740</td>\n",
       "      <td>2.940777</td>\n",
       "    </tr>\n",
       "    <tr>\n",
       "      <th>129</th>\n",
       "      <td>2022-06-27</td>\n",
       "      <td>2.670553</td>\n",
       "      <td>2.420241</td>\n",
       "      <td>2.613922</td>\n",
       "      <td>2.568239</td>\n",
       "      <td>3.322950</td>\n",
       "    </tr>\n",
       "    <tr>\n",
       "      <th>130</th>\n",
       "      <td>2022-07-04</td>\n",
       "      <td>2.720760</td>\n",
       "      <td>2.702383</td>\n",
       "      <td>2.644592</td>\n",
       "      <td>2.689245</td>\n",
       "      <td>4.114238</td>\n",
       "    </tr>\n",
       "    <tr>\n",
       "      <th>131</th>\n",
       "      <td>2022-07-11</td>\n",
       "      <td>2.700996</td>\n",
       "      <td>3.220187</td>\n",
       "      <td>2.672004</td>\n",
       "      <td>2.864396</td>\n",
       "      <td>4.366915</td>\n",
       "    </tr>\n",
       "    <tr>\n",
       "      <th>132</th>\n",
       "      <td>2022-07-18</td>\n",
       "      <td>2.586916</td>\n",
       "      <td>3.249357</td>\n",
       "      <td>2.696504</td>\n",
       "      <td>2.844259</td>\n",
       "      <td>3.590764</td>\n",
       "    </tr>\n",
       "  </tbody>\n",
       "</table>\n",
       "</div>"
      ],
      "text/plain": [
       "             ds   prophet  prophet_multiva  autoarima  average_predictions  \\\n",
       "128  2022-06-20  2.643313         2.753302   2.579606             2.658740   \n",
       "129  2022-06-27  2.670553         2.420241   2.613922             2.568239   \n",
       "130  2022-07-04  2.720760         2.702383   2.644592             2.689245   \n",
       "131  2022-07-11  2.700996         3.220187   2.672004             2.864396   \n",
       "132  2022-07-18  2.586916         3.249357   2.696504             2.844259   \n",
       "\n",
       "     lr_predictions  \n",
       "128        2.940777  \n",
       "129        3.322950  \n",
       "130        4.114238  \n",
       "131        4.366915  \n",
       "132        3.590764  "
      ]
     },
     "execution_count": 50,
     "metadata": {},
     "output_type": "execute_result"
    }
   ],
   "source": [
    "df_final_predictions.head()"
   ]
  },
  {
   "cell_type": "code",
   "execution_count": 90,
   "metadata": {},
   "outputs": [
    {
     "data": {
      "text/html": [
       "<div>\n",
       "<style scoped>\n",
       "    .dataframe tbody tr th:only-of-type {\n",
       "        vertical-align: middle;\n",
       "    }\n",
       "\n",
       "    .dataframe tbody tr th {\n",
       "        vertical-align: top;\n",
       "    }\n",
       "\n",
       "    .dataframe thead th {\n",
       "        text-align: right;\n",
       "    }\n",
       "</style>\n",
       "<table border=\"1\" class=\"dataframe\">\n",
       "  <thead>\n",
       "    <tr style=\"text-align: right;\">\n",
       "      <th></th>\n",
       "      <th>ds</th>\n",
       "      <th>prophet</th>\n",
       "      <th>prophet_multiva</th>\n",
       "      <th>autoarima</th>\n",
       "      <th>average_predictions</th>\n",
       "      <th>lr_predictions</th>\n",
       "      <th>lr_fixed</th>\n",
       "      <th>lr_fixed_bigger0</th>\n",
       "    </tr>\n",
       "  </thead>\n",
       "  <tbody>\n",
       "    <tr>\n",
       "      <th>128</th>\n",
       "      <td>2022-06-20</td>\n",
       "      <td>2.643313</td>\n",
       "      <td>2.753302</td>\n",
       "      <td>2.579606</td>\n",
       "      <td>2.658740</td>\n",
       "      <td>2.940777</td>\n",
       "      <td>2.509745</td>\n",
       "      <td>2.599155</td>\n",
       "    </tr>\n",
       "    <tr>\n",
       "      <th>129</th>\n",
       "      <td>2022-06-27</td>\n",
       "      <td>2.670553</td>\n",
       "      <td>2.420241</td>\n",
       "      <td>2.613922</td>\n",
       "      <td>2.568239</td>\n",
       "      <td>3.322950</td>\n",
       "      <td>2.603059</td>\n",
       "      <td>2.592123</td>\n",
       "    </tr>\n",
       "    <tr>\n",
       "      <th>130</th>\n",
       "      <td>2022-07-04</td>\n",
       "      <td>2.720760</td>\n",
       "      <td>2.702383</td>\n",
       "      <td>2.644592</td>\n",
       "      <td>2.689245</td>\n",
       "      <td>4.114238</td>\n",
       "      <td>2.583129</td>\n",
       "      <td>2.651096</td>\n",
       "    </tr>\n",
       "    <tr>\n",
       "      <th>131</th>\n",
       "      <td>2022-07-11</td>\n",
       "      <td>2.700996</td>\n",
       "      <td>3.220187</td>\n",
       "      <td>2.672004</td>\n",
       "      <td>2.864396</td>\n",
       "      <td>4.366915</td>\n",
       "      <td>2.571153</td>\n",
       "      <td>2.733701</td>\n",
       "    </tr>\n",
       "    <tr>\n",
       "      <th>132</th>\n",
       "      <td>2022-07-18</td>\n",
       "      <td>2.586916</td>\n",
       "      <td>3.249357</td>\n",
       "      <td>2.696504</td>\n",
       "      <td>2.844259</td>\n",
       "      <td>3.590764</td>\n",
       "      <td>2.691313</td>\n",
       "      <td>2.758726</td>\n",
       "    </tr>\n",
       "    <tr>\n",
       "      <th>133</th>\n",
       "      <td>2022-07-25</td>\n",
       "      <td>2.456163</td>\n",
       "      <td>2.668714</td>\n",
       "      <td>2.718401</td>\n",
       "      <td>2.614426</td>\n",
       "      <td>2.411554</td>\n",
       "      <td>2.908035</td>\n",
       "      <td>2.712809</td>\n",
       "    </tr>\n",
       "    <tr>\n",
       "      <th>134</th>\n",
       "      <td>2022-08-01</td>\n",
       "      <td>2.413950</td>\n",
       "      <td>2.820286</td>\n",
       "      <td>2.737972</td>\n",
       "      <td>2.657403</td>\n",
       "      <td>2.264093</td>\n",
       "      <td>2.951130</td>\n",
       "      <td>2.747236</td>\n",
       "    </tr>\n",
       "    <tr>\n",
       "      <th>135</th>\n",
       "      <td>2022-08-08</td>\n",
       "      <td>2.502929</td>\n",
       "      <td>3.168919</td>\n",
       "      <td>2.755464</td>\n",
       "      <td>2.809104</td>\n",
       "      <td>3.309835</td>\n",
       "      <td>2.870176</td>\n",
       "      <td>2.801997</td>\n",
       "    </tr>\n",
       "    <tr>\n",
       "      <th>136</th>\n",
       "      <td>2022-08-15</td>\n",
       "      <td>2.692913</td>\n",
       "      <td>3.286053</td>\n",
       "      <td>2.771098</td>\n",
       "      <td>2.916688</td>\n",
       "      <td>5.122545</td>\n",
       "      <td>2.749652</td>\n",
       "      <td>2.829054</td>\n",
       "    </tr>\n",
       "    <tr>\n",
       "      <th>137</th>\n",
       "      <td>2022-08-22</td>\n",
       "      <td>2.940951</td>\n",
       "      <td>2.914187</td>\n",
       "      <td>2.785070</td>\n",
       "      <td>2.880069</td>\n",
       "      <td>7.232340</td>\n",
       "      <td>2.657689</td>\n",
       "      <td>2.799602</td>\n",
       "    </tr>\n",
       "    <tr>\n",
       "      <th>138</th>\n",
       "      <td>2022-08-29</td>\n",
       "      <td>3.234074</td>\n",
       "      <td>3.308972</td>\n",
       "      <td>2.797559</td>\n",
       "      <td>3.113535</td>\n",
       "      <td>10.018828</td>\n",
       "      <td>2.418792</td>\n",
       "      <td>2.855117</td>\n",
       "    </tr>\n",
       "    <tr>\n",
       "      <th>139</th>\n",
       "      <td>2022-09-05</td>\n",
       "      <td>3.565905</td>\n",
       "      <td>3.453300</td>\n",
       "      <td>2.808720</td>\n",
       "      <td>3.275975</td>\n",
       "      <td>13.031134</td>\n",
       "      <td>2.187408</td>\n",
       "      <td>2.881266</td>\n",
       "    </tr>\n",
       "    <tr>\n",
       "      <th>140</th>\n",
       "      <td>2022-09-12</td>\n",
       "      <td>3.893220</td>\n",
       "      <td>4.274197</td>\n",
       "      <td>2.818696</td>\n",
       "      <td>3.662038</td>\n",
       "      <td>16.259002</td>\n",
       "      <td>1.857385</td>\n",
       "      <td>2.982509</td>\n",
       "    </tr>\n",
       "    <tr>\n",
       "      <th>141</th>\n",
       "      <td>2022-09-19</td>\n",
       "      <td>4.143701</td>\n",
       "      <td>4.671591</td>\n",
       "      <td>2.827612</td>\n",
       "      <td>3.880968</td>\n",
       "      <td>18.649391</td>\n",
       "      <td>1.641170</td>\n",
       "      <td>3.035147</td>\n",
       "    </tr>\n",
       "    <tr>\n",
       "      <th>142</th>\n",
       "      <td>2022-09-26</td>\n",
       "      <td>4.273468</td>\n",
       "      <td>4.693433</td>\n",
       "      <td>2.835581</td>\n",
       "      <td>3.934161</td>\n",
       "      <td>19.842980</td>\n",
       "      <td>1.562417</td>\n",
       "      <td>3.044678</td>\n",
       "    </tr>\n",
       "    <tr>\n",
       "      <th>143</th>\n",
       "      <td>2022-10-03</td>\n",
       "      <td>4.302978</td>\n",
       "      <td>4.684647</td>\n",
       "      <td>2.842704</td>\n",
       "      <td>3.943443</td>\n",
       "      <td>20.151889</td>\n",
       "      <td>1.556317</td>\n",
       "      <td>3.050010</td>\n",
       "    </tr>\n",
       "    <tr>\n",
       "      <th>144</th>\n",
       "      <td>2022-10-10</td>\n",
       "      <td>4.285913</td>\n",
       "      <td>4.077932</td>\n",
       "      <td>2.849069</td>\n",
       "      <td>3.737638</td>\n",
       "      <td>19.819026</td>\n",
       "      <td>1.669220</td>\n",
       "      <td>2.987375</td>\n",
       "    </tr>\n",
       "    <tr>\n",
       "      <th>145</th>\n",
       "      <td>2022-10-17</td>\n",
       "      <td>4.252395</td>\n",
       "      <td>3.989859</td>\n",
       "      <td>2.854759</td>\n",
       "      <td>3.699004</td>\n",
       "      <td>19.541075</td>\n",
       "      <td>1.715970</td>\n",
       "      <td>2.982511</td>\n",
       "    </tr>\n",
       "    <tr>\n",
       "      <th>146</th>\n",
       "      <td>2022-10-24</td>\n",
       "      <td>4.198645</td>\n",
       "      <td>3.742727</td>\n",
       "      <td>2.859844</td>\n",
       "      <td>3.600405</td>\n",
       "      <td>19.021423</td>\n",
       "      <td>1.799087</td>\n",
       "      <td>2.959210</td>\n",
       "    </tr>\n",
       "    <tr>\n",
       "      <th>147</th>\n",
       "      <td>2022-10-31</td>\n",
       "      <td>4.128340</td>\n",
       "      <td>3.983869</td>\n",
       "      <td>2.864388</td>\n",
       "      <td>3.658866</td>\n",
       "      <td>18.545043</td>\n",
       "      <td>1.820843</td>\n",
       "      <td>2.990383</td>\n",
       "    </tr>\n",
       "    <tr>\n",
       "      <th>148</th>\n",
       "      <td>2022-11-07</td>\n",
       "      <td>4.076056</td>\n",
       "      <td>4.206630</td>\n",
       "      <td>2.868450</td>\n",
       "      <td>3.717045</td>\n",
       "      <td>18.213234</td>\n",
       "      <td>1.831886</td>\n",
       "      <td>3.019059</td>\n",
       "    </tr>\n",
       "    <tr>\n",
       "      <th>149</th>\n",
       "      <td>2022-11-14</td>\n",
       "      <td>4.065296</td>\n",
       "      <td>3.980867</td>\n",
       "      <td>2.872081</td>\n",
       "      <td>3.639415</td>\n",
       "      <td>18.061474</td>\n",
       "      <td>1.879288</td>\n",
       "      <td>2.996872</td>\n",
       "    </tr>\n",
       "    <tr>\n",
       "      <th>150</th>\n",
       "      <td>2022-11-21</td>\n",
       "      <td>4.050256</td>\n",
       "      <td>4.096270</td>\n",
       "      <td>2.875326</td>\n",
       "      <td>3.673951</td>\n",
       "      <td>18.002815</td>\n",
       "      <td>1.878735</td>\n",
       "      <td>3.012740</td>\n",
       "    </tr>\n",
       "    <tr>\n",
       "      <th>151</th>\n",
       "      <td>2022-11-28</td>\n",
       "      <td>3.933508</td>\n",
       "      <td>4.363259</td>\n",
       "      <td>2.878226</td>\n",
       "      <td>3.724998</td>\n",
       "      <td>17.122147</td>\n",
       "      <td>1.925945</td>\n",
       "      <td>3.045362</td>\n",
       "    </tr>\n",
       "    <tr>\n",
       "      <th>152</th>\n",
       "      <td>2022-12-05</td>\n",
       "      <td>3.670768</td>\n",
       "      <td>4.103449</td>\n",
       "      <td>2.880818</td>\n",
       "      <td>3.551678</td>\n",
       "      <td>14.772461</td>\n",
       "      <td>2.151634</td>\n",
       "      <td>3.018422</td>\n",
       "    </tr>\n",
       "    <tr>\n",
       "      <th>153</th>\n",
       "      <td>2022-12-12</td>\n",
       "      <td>3.356639</td>\n",
       "      <td>4.382711</td>\n",
       "      <td>2.883134</td>\n",
       "      <td>3.540828</td>\n",
       "      <td>12.187177</td>\n",
       "      <td>2.333191</td>\n",
       "      <td>3.051908</td>\n",
       "    </tr>\n",
       "    <tr>\n",
       "      <th>154</th>\n",
       "      <td>2022-12-19</td>\n",
       "      <td>3.179628</td>\n",
       "      <td>4.912402</td>\n",
       "      <td>2.885205</td>\n",
       "      <td>3.659078</td>\n",
       "      <td>10.881906</td>\n",
       "      <td>2.382099</td>\n",
       "      <td>3.113361</td>\n",
       "    </tr>\n",
       "    <tr>\n",
       "      <th>155</th>\n",
       "      <td>2022-12-26</td>\n",
       "      <td>3.265683</td>\n",
       "      <td>5.174799</td>\n",
       "      <td>2.887055</td>\n",
       "      <td>3.775846</td>\n",
       "      <td>11.742495</td>\n",
       "      <td>2.287054</td>\n",
       "      <td>3.144535</td>\n",
       "    </tr>\n",
       "    <tr>\n",
       "      <th>156</th>\n",
       "      <td>2023-01-02</td>\n",
       "      <td>3.557165</td>\n",
       "      <td>5.027027</td>\n",
       "      <td>2.888709</td>\n",
       "      <td>3.824300</td>\n",
       "      <td>14.215562</td>\n",
       "      <td>2.109203</td>\n",
       "      <td>3.129371</td>\n",
       "    </tr>\n",
       "    <tr>\n",
       "      <th>157</th>\n",
       "      <td>2023-01-09</td>\n",
       "      <td>3.851385</td>\n",
       "      <td>4.321238</td>\n",
       "      <td>2.890188</td>\n",
       "      <td>3.687604</td>\n",
       "      <td>16.493018</td>\n",
       "      <td>2.011266</td>\n",
       "      <td>3.051249</td>\n",
       "    </tr>\n",
       "    <tr>\n",
       "      <th>158</th>\n",
       "      <td>2023-01-16</td>\n",
       "      <td>3.967230</td>\n",
       "      <td>4.618877</td>\n",
       "      <td>2.891509</td>\n",
       "      <td>3.825872</td>\n",
       "      <td>17.620381</td>\n",
       "      <td>1.889346</td>\n",
       "      <td>3.085920</td>\n",
       "    </tr>\n",
       "    <tr>\n",
       "      <th>159</th>\n",
       "      <td>2023-01-23</td>\n",
       "      <td>3.884790</td>\n",
       "      <td>4.397440</td>\n",
       "      <td>2.892690</td>\n",
       "      <td>3.724974</td>\n",
       "      <td>16.831467</td>\n",
       "      <td>1.981433</td>\n",
       "      <td>3.062046</td>\n",
       "    </tr>\n",
       "    <tr>\n",
       "      <th>160</th>\n",
       "      <td>2023-01-30</td>\n",
       "      <td>3.737635</td>\n",
       "      <td>4.544107</td>\n",
       "      <td>2.893745</td>\n",
       "      <td>3.725162</td>\n",
       "      <td>15.626318</td>\n",
       "      <td>2.064097</td>\n",
       "      <td>3.079489</td>\n",
       "    </tr>\n",
       "    <tr>\n",
       "      <th>161</th>\n",
       "      <td>2023-02-06</td>\n",
       "      <td>3.683421</td>\n",
       "      <td>4.550310</td>\n",
       "      <td>2.894688</td>\n",
       "      <td>3.709473</td>\n",
       "      <td>15.168132</td>\n",
       "      <td>2.102614</td>\n",
       "      <td>3.081024</td>\n",
       "    </tr>\n",
       "    <tr>\n",
       "      <th>162</th>\n",
       "      <td>2023-02-13</td>\n",
       "      <td>3.780376</td>\n",
       "      <td>3.881146</td>\n",
       "      <td>2.895531</td>\n",
       "      <td>3.519018</td>\n",
       "      <td>15.751064</td>\n",
       "      <td>2.135263</td>\n",
       "      <td>3.006460</td>\n",
       "    </tr>\n",
       "    <tr>\n",
       "      <th>163</th>\n",
       "      <td>2023-02-20</td>\n",
       "      <td>3.965904</td>\n",
       "      <td>4.002258</td>\n",
       "      <td>2.896285</td>\n",
       "      <td>3.621482</td>\n",
       "      <td>17.406747</td>\n",
       "      <td>1.989836</td>\n",
       "      <td>3.020759</td>\n",
       "    </tr>\n",
       "    <tr>\n",
       "      <th>164</th>\n",
       "      <td>2023-02-27</td>\n",
       "      <td>4.126960</td>\n",
       "      <td>4.450691</td>\n",
       "      <td>2.896958</td>\n",
       "      <td>3.824870</td>\n",
       "      <td>18.978223</td>\n",
       "      <td>1.813093</td>\n",
       "      <td>3.071827</td>\n",
       "    </tr>\n",
       "    <tr>\n",
       "      <th>165</th>\n",
       "      <td>2023-03-06</td>\n",
       "      <td>4.185236</td>\n",
       "      <td>3.997273</td>\n",
       "      <td>2.897560</td>\n",
       "      <td>3.693356</td>\n",
       "      <td>19.309373</td>\n",
       "      <td>1.840430</td>\n",
       "      <td>3.021330</td>\n",
       "    </tr>\n",
       "    <tr>\n",
       "      <th>166</th>\n",
       "      <td>2023-03-13</td>\n",
       "      <td>4.136667</td>\n",
       "      <td>4.200898</td>\n",
       "      <td>2.898098</td>\n",
       "      <td>3.745221</td>\n",
       "      <td>18.973739</td>\n",
       "      <td>1.845214</td>\n",
       "      <td>3.044725</td>\n",
       "    </tr>\n",
       "    <tr>\n",
       "      <th>167</th>\n",
       "      <td>2023-03-20</td>\n",
       "      <td>4.035928</td>\n",
       "      <td>4.360043</td>\n",
       "      <td>2.898579</td>\n",
       "      <td>3.764850</td>\n",
       "      <td>18.169706</td>\n",
       "      <td>1.892712</td>\n",
       "      <td>3.063063</td>\n",
       "    </tr>\n",
       "    <tr>\n",
       "      <th>168</th>\n",
       "      <td>2023-03-27</td>\n",
       "      <td>3.947009</td>\n",
       "      <td>4.185046</td>\n",
       "      <td>2.899009</td>\n",
       "      <td>3.677022</td>\n",
       "      <td>17.336908</td>\n",
       "      <td>1.981084</td>\n",
       "      <td>3.043749</td>\n",
       "    </tr>\n",
       "    <tr>\n",
       "      <th>169</th>\n",
       "      <td>2023-04-03</td>\n",
       "      <td>3.889210</td>\n",
       "      <td>3.972476</td>\n",
       "      <td>2.899393</td>\n",
       "      <td>3.587026</td>\n",
       "      <td>16.757834</td>\n",
       "      <td>2.053267</td>\n",
       "      <td>3.020166</td>\n",
       "    </tr>\n",
       "    <tr>\n",
       "      <th>170</th>\n",
       "      <td>2023-04-10</td>\n",
       "      <td>3.814075</td>\n",
       "      <td>3.866870</td>\n",
       "      <td>2.899736</td>\n",
       "      <td>3.526894</td>\n",
       "      <td>16.070462</td>\n",
       "      <td>2.121683</td>\n",
       "      <td>3.008585</td>\n",
       "    </tr>\n",
       "    <tr>\n",
       "      <th>171</th>\n",
       "      <td>2023-04-17</td>\n",
       "      <td>3.642302</td>\n",
       "      <td>3.320060</td>\n",
       "      <td>2.900043</td>\n",
       "      <td>3.287469</td>\n",
       "      <td>14.375943</td>\n",
       "      <td>2.322164</td>\n",
       "      <td>2.947315</td>\n",
       "    </tr>\n",
       "    <tr>\n",
       "      <th>172</th>\n",
       "      <td>2023-04-24</td>\n",
       "      <td>3.346316</td>\n",
       "      <td>3.126776</td>\n",
       "      <td>2.900317</td>\n",
       "      <td>3.124470</td>\n",
       "      <td>11.746386</td>\n",
       "      <td>2.556904</td>\n",
       "      <td>2.925805</td>\n",
       "    </tr>\n",
       "    <tr>\n",
       "      <th>173</th>\n",
       "      <td>2023-05-01</td>\n",
       "      <td>3.007704</td>\n",
       "      <td>3.196264</td>\n",
       "      <td>2.900562</td>\n",
       "      <td>3.034843</td>\n",
       "      <td>8.851042</td>\n",
       "      <td>2.782545</td>\n",
       "      <td>2.933843</td>\n",
       "    </tr>\n",
       "    <tr>\n",
       "      <th>174</th>\n",
       "      <td>2023-05-08</td>\n",
       "      <td>2.778857</td>\n",
       "      <td>2.982588</td>\n",
       "      <td>2.900781</td>\n",
       "      <td>2.887409</td>\n",
       "      <td>6.792936</td>\n",
       "      <td>2.973507</td>\n",
       "      <td>2.909989</td>\n",
       "    </tr>\n",
       "    <tr>\n",
       "      <th>175</th>\n",
       "      <td>2023-05-15</td>\n",
       "      <td>2.762781</td>\n",
       "      <td>2.710499</td>\n",
       "      <td>2.900977</td>\n",
       "      <td>2.791419</td>\n",
       "      <td>6.549456</td>\n",
       "      <td>3.025096</td>\n",
       "      <td>2.879539</td>\n",
       "    </tr>\n",
       "    <tr>\n",
       "      <th>176</th>\n",
       "      <td>2023-05-22</td>\n",
       "      <td>2.918912</td>\n",
       "      <td>2.671192</td>\n",
       "      <td>2.901152</td>\n",
       "      <td>2.830419</td>\n",
       "      <td>7.883962</td>\n",
       "      <td>2.922656</td>\n",
       "      <td>2.875271</td>\n",
       "    </tr>\n",
       "    <tr>\n",
       "      <th>177</th>\n",
       "      <td>2023-05-29</td>\n",
       "      <td>3.094505</td>\n",
       "      <td>2.042795</td>\n",
       "      <td>2.901309</td>\n",
       "      <td>2.679536</td>\n",
       "      <td>9.156427</td>\n",
       "      <td>2.893366</td>\n",
       "      <td>2.804685</td>\n",
       "    </tr>\n",
       "    <tr>\n",
       "      <th>178</th>\n",
       "      <td>2023-06-05</td>\n",
       "      <td>3.159888</td>\n",
       "      <td>2.462105</td>\n",
       "      <td>2.901448</td>\n",
       "      <td>2.841147</td>\n",
       "      <td>9.885938</td>\n",
       "      <td>2.786442</td>\n",
       "      <td>2.852001</td>\n",
       "    </tr>\n",
       "    <tr>\n",
       "      <th>179</th>\n",
       "      <td>2023-06-12</td>\n",
       "      <td>3.114994</td>\n",
       "      <td>2.928710</td>\n",
       "      <td>2.901573</td>\n",
       "      <td>2.981759</td>\n",
       "      <td>9.681374</td>\n",
       "      <td>2.749199</td>\n",
       "      <td>2.904627</td>\n",
       "    </tr>\n",
       "    <tr>\n",
       "      <th>180</th>\n",
       "      <td>2023-06-19</td>\n",
       "      <td>3.061335</td>\n",
       "      <td>2.848009</td>\n",
       "      <td>2.901685</td>\n",
       "      <td>2.937010</td>\n",
       "      <td>9.187339</td>\n",
       "      <td>2.798590</td>\n",
       "      <td>2.895644</td>\n",
       "    </tr>\n",
       "    <tr>\n",
       "      <th>181</th>\n",
       "      <td>2023-06-26</td>\n",
       "      <td>3.076374</td>\n",
       "      <td>2.848940</td>\n",
       "      <td>2.901785</td>\n",
       "      <td>2.942366</td>\n",
       "      <td>9.318392</td>\n",
       "      <td>2.788181</td>\n",
       "      <td>2.895837</td>\n",
       "    </tr>\n",
       "    <tr>\n",
       "      <th>182</th>\n",
       "      <td>2023-07-03</td>\n",
       "      <td>3.129614</td>\n",
       "      <td>3.222094</td>\n",
       "      <td>2.901874</td>\n",
       "      <td>3.084527</td>\n",
       "      <td>9.924598</td>\n",
       "      <td>2.696402</td>\n",
       "      <td>2.937914</td>\n",
       "    </tr>\n",
       "  </tbody>\n",
       "</table>\n",
       "</div>"
      ],
      "text/plain": [
       "             ds   prophet  prophet_multiva  autoarima  average_predictions  \\\n",
       "128  2022-06-20  2.643313         2.753302   2.579606             2.658740   \n",
       "129  2022-06-27  2.670553         2.420241   2.613922             2.568239   \n",
       "130  2022-07-04  2.720760         2.702383   2.644592             2.689245   \n",
       "131  2022-07-11  2.700996         3.220187   2.672004             2.864396   \n",
       "132  2022-07-18  2.586916         3.249357   2.696504             2.844259   \n",
       "133  2022-07-25  2.456163         2.668714   2.718401             2.614426   \n",
       "134  2022-08-01  2.413950         2.820286   2.737972             2.657403   \n",
       "135  2022-08-08  2.502929         3.168919   2.755464             2.809104   \n",
       "136  2022-08-15  2.692913         3.286053   2.771098             2.916688   \n",
       "137  2022-08-22  2.940951         2.914187   2.785070             2.880069   \n",
       "138  2022-08-29  3.234074         3.308972   2.797559             3.113535   \n",
       "139  2022-09-05  3.565905         3.453300   2.808720             3.275975   \n",
       "140  2022-09-12  3.893220         4.274197   2.818696             3.662038   \n",
       "141  2022-09-19  4.143701         4.671591   2.827612             3.880968   \n",
       "142  2022-09-26  4.273468         4.693433   2.835581             3.934161   \n",
       "143  2022-10-03  4.302978         4.684647   2.842704             3.943443   \n",
       "144  2022-10-10  4.285913         4.077932   2.849069             3.737638   \n",
       "145  2022-10-17  4.252395         3.989859   2.854759             3.699004   \n",
       "146  2022-10-24  4.198645         3.742727   2.859844             3.600405   \n",
       "147  2022-10-31  4.128340         3.983869   2.864388             3.658866   \n",
       "148  2022-11-07  4.076056         4.206630   2.868450             3.717045   \n",
       "149  2022-11-14  4.065296         3.980867   2.872081             3.639415   \n",
       "150  2022-11-21  4.050256         4.096270   2.875326             3.673951   \n",
       "151  2022-11-28  3.933508         4.363259   2.878226             3.724998   \n",
       "152  2022-12-05  3.670768         4.103449   2.880818             3.551678   \n",
       "153  2022-12-12  3.356639         4.382711   2.883134             3.540828   \n",
       "154  2022-12-19  3.179628         4.912402   2.885205             3.659078   \n",
       "155  2022-12-26  3.265683         5.174799   2.887055             3.775846   \n",
       "156  2023-01-02  3.557165         5.027027   2.888709             3.824300   \n",
       "157  2023-01-09  3.851385         4.321238   2.890188             3.687604   \n",
       "158  2023-01-16  3.967230         4.618877   2.891509             3.825872   \n",
       "159  2023-01-23  3.884790         4.397440   2.892690             3.724974   \n",
       "160  2023-01-30  3.737635         4.544107   2.893745             3.725162   \n",
       "161  2023-02-06  3.683421         4.550310   2.894688             3.709473   \n",
       "162  2023-02-13  3.780376         3.881146   2.895531             3.519018   \n",
       "163  2023-02-20  3.965904         4.002258   2.896285             3.621482   \n",
       "164  2023-02-27  4.126960         4.450691   2.896958             3.824870   \n",
       "165  2023-03-06  4.185236         3.997273   2.897560             3.693356   \n",
       "166  2023-03-13  4.136667         4.200898   2.898098             3.745221   \n",
       "167  2023-03-20  4.035928         4.360043   2.898579             3.764850   \n",
       "168  2023-03-27  3.947009         4.185046   2.899009             3.677022   \n",
       "169  2023-04-03  3.889210         3.972476   2.899393             3.587026   \n",
       "170  2023-04-10  3.814075         3.866870   2.899736             3.526894   \n",
       "171  2023-04-17  3.642302         3.320060   2.900043             3.287469   \n",
       "172  2023-04-24  3.346316         3.126776   2.900317             3.124470   \n",
       "173  2023-05-01  3.007704         3.196264   2.900562             3.034843   \n",
       "174  2023-05-08  2.778857         2.982588   2.900781             2.887409   \n",
       "175  2023-05-15  2.762781         2.710499   2.900977             2.791419   \n",
       "176  2023-05-22  2.918912         2.671192   2.901152             2.830419   \n",
       "177  2023-05-29  3.094505         2.042795   2.901309             2.679536   \n",
       "178  2023-06-05  3.159888         2.462105   2.901448             2.841147   \n",
       "179  2023-06-12  3.114994         2.928710   2.901573             2.981759   \n",
       "180  2023-06-19  3.061335         2.848009   2.901685             2.937010   \n",
       "181  2023-06-26  3.076374         2.848940   2.901785             2.942366   \n",
       "182  2023-07-03  3.129614         3.222094   2.901874             3.084527   \n",
       "\n",
       "     lr_predictions  lr_fixed  lr_fixed_bigger0  \n",
       "128        2.940777  2.509745          2.599155  \n",
       "129        3.322950  2.603059          2.592123  \n",
       "130        4.114238  2.583129          2.651096  \n",
       "131        4.366915  2.571153          2.733701  \n",
       "132        3.590764  2.691313          2.758726  \n",
       "133        2.411554  2.908035          2.712809  \n",
       "134        2.264093  2.951130          2.747236  \n",
       "135        3.309835  2.870176          2.801997  \n",
       "136        5.122545  2.749652          2.829054  \n",
       "137        7.232340  2.657689          2.799602  \n",
       "138       10.018828  2.418792          2.855117  \n",
       "139       13.031134  2.187408          2.881266  \n",
       "140       16.259002  1.857385          2.982509  \n",
       "141       18.649391  1.641170          3.035147  \n",
       "142       19.842980  1.562417          3.044678  \n",
       "143       20.151889  1.556317          3.050010  \n",
       "144       19.819026  1.669220          2.987375  \n",
       "145       19.541075  1.715970          2.982511  \n",
       "146       19.021423  1.799087          2.959210  \n",
       "147       18.545043  1.820843          2.990383  \n",
       "148       18.213234  1.831886          3.019059  \n",
       "149       18.061474  1.879288          2.996872  \n",
       "150       18.002815  1.878735          3.012740  \n",
       "151       17.122147  1.925945          3.045362  \n",
       "152       14.772461  2.151634          3.018422  \n",
       "153       12.187177  2.333191          3.051908  \n",
       "154       10.881906  2.382099          3.113361  \n",
       "155       11.742495  2.287054          3.144535  \n",
       "156       14.215562  2.109203          3.129371  \n",
       "157       16.493018  2.011266          3.051249  \n",
       "158       17.620381  1.889346          3.085920  \n",
       "159       16.831467  1.981433          3.062046  \n",
       "160       15.626318  2.064097          3.079489  \n",
       "161       15.168132  2.102614          3.081024  \n",
       "162       15.751064  2.135263          3.006460  \n",
       "163       17.406747  1.989836          3.020759  \n",
       "164       18.978223  1.813093          3.071827  \n",
       "165       19.309373  1.840430          3.021330  \n",
       "166       18.973739  1.845214          3.044725  \n",
       "167       18.169706  1.892712          3.063063  \n",
       "168       17.336908  1.981084          3.043749  \n",
       "169       16.757834  2.053267          3.020166  \n",
       "170       16.070462  2.121683          3.008585  \n",
       "171       14.375943  2.322164          2.947315  \n",
       "172       11.746386  2.556904          2.925805  \n",
       "173        8.851042  2.782545          2.933843  \n",
       "174        6.792936  2.973507          2.909989  \n",
       "175        6.549456  3.025096          2.879539  \n",
       "176        7.883962  2.922656          2.875271  \n",
       "177        9.156427  2.893366          2.804685  \n",
       "178        9.885938  2.786442          2.852001  \n",
       "179        9.681374  2.749199          2.904627  \n",
       "180        9.187339  2.798590          2.895644  \n",
       "181        9.318392  2.788181          2.895837  \n",
       "182        9.924598  2.696402          2.937914  "
      ]
     },
     "execution_count": 90,
     "metadata": {},
     "output_type": "execute_result"
    }
   ],
   "source": [
    "df_final_predictions"
   ]
  },
  {
   "cell_type": "markdown",
   "metadata": {},
   "source": [
    "# 8. Testing limited linear regression"
   ]
  },
  {
   "cell_type": "code",
   "execution_count": 52,
   "metadata": {},
   "outputs": [],
   "source": [
    "from scipy.optimize import minimize"
   ]
  },
  {
   "cell_type": "code",
   "execution_count": 53,
   "metadata": {},
   "outputs": [],
   "source": [
    "# Objective function to minimize (Mean Squared Error)\n",
    "def objective(coefs, X, y):\n",
    "    return np.mean((np.dot(X, coefs) - y) ** 2)\n",
    "\n"
   ]
  },
  {
   "cell_type": "code",
   "execution_count": 54,
   "metadata": {},
   "outputs": [],
   "source": [
    "# Constraint that coefficients must sum to 1\n",
    "constraints = {'type': 'eq', 'fun': lambda coefs: np.sum(coefs) - 1}\n",
    "\n",
    "# Initial guess for the coefficients\n",
    "initial_coefs = np.ones(X_train.shape[1]) / X_train.shape[1]\n",
    "\n"
   ]
  },
  {
   "cell_type": "code",
   "execution_count": 58,
   "metadata": {},
   "outputs": [],
   "source": [
    "# Perform the optimization\n",
    "result = minimize(objective, initial_coefs, args=(X_train.values, y_train.values), constraints=constraints)\n",
    "\n",
    "# The optimized coefficients\n",
    "coefs = result.x\n",
    "\n"
   ]
  },
  {
   "cell_type": "code",
   "execution_count": 59,
   "metadata": {},
   "outputs": [
    {
     "name": "stdout",
     "output_type": "stream",
     "text": [
      "Optimized coefficients: [-0.69524429 -0.1472031   1.84244738]\n",
      "Sum of coefficients: 1.0\n"
     ]
    }
   ],
   "source": [
    "print(\"Optimized coefficients:\", coefs)\n",
    "print(\"Sum of coefficients:\", np.sum(coefs))"
   ]
  },
  {
   "cell_type": "code",
   "execution_count": 63,
   "metadata": {},
   "outputs": [
    {
     "data": {
      "text/plain": [
       "array([-0.69524429, -0.1472031 ,  1.84244738])"
      ]
     },
     "execution_count": 63,
     "metadata": {},
     "output_type": "execute_result"
    }
   ],
   "source": [
    "coefs"
   ]
  },
  {
   "cell_type": "code",
   "execution_count": 70,
   "metadata": {},
   "outputs": [],
   "source": [
    "lr_fixed = (testing_X['prophet'] * coefs[0] + testing_X['prophet_multiva'] * coefs[1] + testing_X['autoarima'] * coefs[2]).values"
   ]
  },
  {
   "cell_type": "code",
   "execution_count": 71,
   "metadata": {},
   "outputs": [
    {
     "data": {
      "text/plain": [
       "array([2.50974455, 2.60305946, 2.58312939, 2.57115338, 2.69131305,\n",
       "       2.90803455, 2.95112976, 2.87017566, 2.74965205, 2.65768873,\n",
       "       2.41879218, 2.18740803, 1.85738528, 1.64117019, 1.56241691,\n",
       "       1.5563166 , 1.66921951, 1.7159701 , 1.79908651, 1.82084264,\n",
       "       1.83188565, 1.87928796, 1.87873535, 1.9259453 , 2.15163429,\n",
       "       2.33319075, 2.38209907, 2.28705408, 2.10920276, 2.01126556,\n",
       "       1.88934592, 1.98143336, 2.06409736, 2.10261395, 2.13526266,\n",
       "       1.9898361 , 1.81309268, 1.84043028, 1.84521449, 1.89271203,\n",
       "       1.98108377, 2.05326707, 2.12168266, 2.32216374, 2.55690406,\n",
       "       2.78254482, 2.97350676, 3.02509627, 2.92265561, 2.89336573,\n",
       "       2.78644208, 2.74919889, 2.7985902 , 2.78818142, 2.69640166])"
      ]
     },
     "execution_count": 71,
     "metadata": {},
     "output_type": "execute_result"
    }
   ],
   "source": [
    "lr_fixed"
   ]
  },
  {
   "cell_type": "code",
   "execution_count": 72,
   "metadata": {},
   "outputs": [],
   "source": [
    "df_final_predictions[\"lr_fixed\"] = lr_fixed"
   ]
  },
  {
   "cell_type": "code",
   "execution_count": 74,
   "metadata": {},
   "outputs": [
    {
     "name": "stdout",
     "output_type": "stream",
     "text": [
      "MAPE of prophet: 21.35%\n",
      "MAPE of prophet_multiva: 21.87%\n",
      "MAPE of autoarima: 21.07%\n",
      "MAPE of average_predictions: 17.84%\n",
      "MAPE of lr_predictions: 289.60%\n",
      "MAPE of lr_fixed: 35.01%\n"
     ]
    }
   ],
   "source": [
    "for e in df_final_predictions.columns[1:]:\n",
    "    mape=calculate_mape(df_test[\"y\"],df_final_predictions[e])\n",
    "    print(f'MAPE of {e}: {mape:.2f}%')"
   ]
  },
  {
   "cell_type": "code",
   "execution_count": null,
   "metadata": {},
   "outputs": [],
   "source": []
  },
  {
   "cell_type": "code",
   "execution_count": null,
   "metadata": {},
   "outputs": [],
   "source": []
  },
  {
   "cell_type": "markdown",
   "metadata": {},
   "source": [
    "# 9. Coefficients bigger than 0"
   ]
  },
  {
   "cell_type": "code",
   "execution_count": 77,
   "metadata": {},
   "outputs": [],
   "source": [
    "from scipy.optimize import minimize"
   ]
  },
  {
   "cell_type": "code",
   "execution_count": 78,
   "metadata": {},
   "outputs": [],
   "source": [
    "# Objective function to minimize (Mean Squared Error)\n",
    "def objective(coefs, X, y):\n",
    "    return np.mean((np.dot(X, coefs) - y) ** 2)\n",
    "\n"
   ]
  },
  {
   "cell_type": "code",
   "execution_count": 79,
   "metadata": {},
   "outputs": [],
   "source": [
    "# Constraint that coefficients must sum to 1\n",
    "constraints = {'type': 'eq', 'fun': lambda coefs: np.sum(coefs) - 1}\n",
    "\n",
    "bounds = [(0, None) for _ in range(X_train.shape[1])]\n",
    "\n",
    "# Initial guess for the coefficients\n",
    "initial_coefs = np.ones(X_train.shape[1]) / X_train.shape[1]\n",
    "\n"
   ]
  },
  {
   "cell_type": "code",
   "execution_count": 80,
   "metadata": {},
   "outputs": [],
   "source": [
    "# Perform the optimization\n",
    "result = minimize(objective, initial_coefs, args=(X_train.values, y_train.values), constraints=constraints, bounds=bounds)\n",
    "\n",
    "# The optimized coefficients\n",
    "coefs_2 = result.x\n",
    "\n"
   ]
  },
  {
   "cell_type": "code",
   "execution_count": 81,
   "metadata": {},
   "outputs": [
    {
     "name": "stdout",
     "output_type": "stream",
     "text": [
      "Optimized coefficients: [6.40987562e-17 1.12547416e-01 8.87452584e-01]\n",
      "Sum of coefficients: 1.0\n"
     ]
    }
   ],
   "source": [
    "print(\"Optimized coefficients:\", coefs_2)\n",
    "print(\"Sum of coefficients:\", np.sum(coefs_2))"
   ]
  },
  {
   "cell_type": "code",
   "execution_count": 82,
   "metadata": {},
   "outputs": [
    {
     "data": {
      "text/plain": [
       "array([6.40987562e-17, 1.12547416e-01, 8.87452584e-01])"
      ]
     },
     "execution_count": 82,
     "metadata": {},
     "output_type": "execute_result"
    }
   ],
   "source": [
    "coefs_2"
   ]
  },
  {
   "cell_type": "code",
   "execution_count": 83,
   "metadata": {},
   "outputs": [],
   "source": [
    "lr_fixed_bigger0 = (testing_X['prophet'] * coefs_2[0] + testing_X['prophet_multiva'] * coefs_2[1] + testing_X['autoarima'] * coefs_2[2]).values"
   ]
  },
  {
   "cell_type": "code",
   "execution_count": 84,
   "metadata": {},
   "outputs": [
    {
     "data": {
      "text/plain": [
       "array([2.59915476, 2.59212336, 2.65109618, 2.73370061, 2.7587261 ,\n",
       "       2.71280906, 2.74723633, 2.80199729, 2.82905441, 2.79960206,\n",
       "       2.85511692, 2.88126614, 2.98250906, 3.03514732, 3.04467763,\n",
       "       3.05000956, 2.98737454, 2.98251124, 2.95920994, 2.99038316,\n",
       "       3.01905909, 2.99687195, 3.01273986, 3.04536244, 3.01842173,\n",
       "       3.0519078 , 3.11336068, 3.14453505, 3.12937149, 3.05124865,\n",
       "       3.08591965, 3.06204551, 3.0794891 , 3.08102433, 3.00645979,\n",
       "       3.02075935, 3.07182698, 3.02133022, 3.04472511, 3.06306317,\n",
       "       3.04374908, 3.02016567, 3.00858462, 2.94731492, 2.92580463,\n",
       "       2.93384278, 2.90998854, 2.87953941, 2.87527071, 2.80468505,\n",
       "       2.85200143, 2.90462748, 2.89564388, 2.89583715, 2.93791385])"
      ]
     },
     "execution_count": 84,
     "metadata": {},
     "output_type": "execute_result"
    }
   ],
   "source": [
    "lr_fixed_bigger0"
   ]
  },
  {
   "cell_type": "code",
   "execution_count": 85,
   "metadata": {},
   "outputs": [],
   "source": [
    "df_final_predictions[\"lr_fixed_bigger0\"] = lr_fixed_bigger0"
   ]
  },
  {
   "cell_type": "code",
   "execution_count": 86,
   "metadata": {},
   "outputs": [
    {
     "name": "stdout",
     "output_type": "stream",
     "text": [
      "MAPE of prophet: 21.35%\n",
      "MAPE of prophet_multiva: 21.87%\n",
      "MAPE of autoarima: 21.07%\n",
      "MAPE of average_predictions: 17.84%\n",
      "MAPE of lr_predictions: 289.60%\n",
      "MAPE of lr_fixed: 35.01%\n",
      "MAPE of lr_fixed_bigger0: 19.71%\n"
     ]
    }
   ],
   "source": [
    "for e in df_final_predictions.columns[1:]:\n",
    "    mape=calculate_mape(df_test[\"y\"],df_final_predictions[e])\n",
    "    print(f'MAPE of {e}: {mape:.2f}%')"
   ]
  },
  {
   "cell_type": "code",
   "execution_count": null,
   "metadata": {},
   "outputs": [],
   "source": []
  }
 ],
 "metadata": {
  "kernelspec": {
   "display_name": "Python 3",
   "language": "python",
   "name": "python3"
  },
  "language_info": {
   "codemirror_mode": {
    "name": "ipython",
    "version": 3
   },
   "file_extension": ".py",
   "mimetype": "text/x-python",
   "name": "python",
   "nbconvert_exporter": "python",
   "pygments_lexer": "ipython3",
   "version": "3.8.5"
  }
 },
 "nbformat": 4,
 "nbformat_minor": 4
}
