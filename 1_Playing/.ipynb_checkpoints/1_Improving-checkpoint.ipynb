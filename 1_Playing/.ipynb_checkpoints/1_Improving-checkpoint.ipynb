{
 "cells": [
  {
   "cell_type": "markdown",
   "metadata": {},
   "source": [
    "# 0. Import Dataset"
   ]
  },
  {
   "cell_type": "code",
   "execution_count": 1,
   "metadata": {},
   "outputs": [],
   "source": [
    "import pandas as pd\n",
    "import numpy as np"
   ]
  },
  {
   "cell_type": "code",
   "execution_count": 2,
   "metadata": {},
   "outputs": [],
   "source": [
    "df= pd.read_csv(r\"C:\\Users\\alexs\\Documents\\TFM_MBD\\TFM_MBD_2024_AlexSerra\\preprocessed_data\\other_europe.csv\")"
   ]
  },
  {
   "cell_type": "code",
   "execution_count": null,
   "metadata": {},
   "outputs": [],
   "source": []
  },
  {
   "cell_type": "markdown",
   "metadata": {},
   "source": [
    "# 1. Defining train, validation, test"
   ]
  },
  {
   "cell_type": "code",
   "execution_count": 3,
   "metadata": {},
   "outputs": [],
   "source": [
    "train_lim = int(df.shape[0]*0.7)\n",
    "df_train = df.iloc[:train_lim]\n",
    "df_test = df.iloc[train_lim:]"
   ]
  },
  {
   "cell_type": "code",
   "execution_count": 4,
   "metadata": {},
   "outputs": [],
   "source": [
    "train_lim_meta = int(df_train.shape[0]*0.6)\n",
    "df_train_meta = df_train.iloc[:train_lim_meta]\n",
    "df_validation_meta = df_train.iloc[train_lim_meta:]"
   ]
  },
  {
   "cell_type": "markdown",
   "metadata": {},
   "source": [
    "Let's define general datasets:\n",
    "\n",
    "- df_train --> data that we are going to use to train our algorithms (prophet, autoarima, ....)\n",
    "- df_test --> data that only will be used to evaluate scores of how the algorithm work.\n",
    "\n",
    "Now, we also defined \"meta\" dataset. This data will be used to train the meta learner:\n",
    "\n",
    "- df_train_meta --> son algorithm (prophet, autoarima,...) will be trained with this reduced amount of the train dataset.\n",
    "- df_validation_meta --> this data will be used, after having son algorithms trained, to train the meta learner. For example, for a linear regression, it will be used to obtain the coefficients.\n",
    "\n",
    "Once we have the metalearner trained, son algorithms will be trained with full df_train. And then using the metalearner to obtain final predictions."
   ]
  },
  {
   "cell_type": "code",
   "execution_count": null,
   "metadata": {},
   "outputs": [],
   "source": []
  },
  {
   "cell_type": "markdown",
   "metadata": {},
   "source": [
    "# 2. Prophet"
   ]
  },
  {
   "cell_type": "code",
   "execution_count": 5,
   "metadata": {},
   "outputs": [],
   "source": [
    "from prophet import Prophet"
   ]
  },
  {
   "cell_type": "code",
   "execution_count": 6,
   "metadata": {},
   "outputs": [],
   "source": [
    "model_prophet = Prophet()"
   ]
  },
  {
   "cell_type": "code",
   "execution_count": 7,
   "metadata": {},
   "outputs": [
    {
     "name": "stderr",
     "output_type": "stream",
     "text": [
      "18:53:09 - cmdstanpy - INFO - Chain [1] start processing\n",
      "18:53:09 - cmdstanpy - INFO - Chain [1] done processing\n"
     ]
    },
    {
     "data": {
      "text/plain": [
       "<prophet.forecaster.Prophet at 0x2b8b0135190>"
      ]
     },
     "execution_count": 7,
     "metadata": {},
     "output_type": "execute_result"
    }
   ],
   "source": [
    "model_prophet.fit(df_train)"
   ]
  },
  {
   "cell_type": "code",
   "execution_count": 8,
   "metadata": {},
   "outputs": [],
   "source": [
    "forecast_prophet = model_prophet.predict(df_test[[\"ds\"]])[\"yhat\"].values"
   ]
  },
  {
   "cell_type": "code",
   "execution_count": 9,
   "metadata": {},
   "outputs": [],
   "source": [
    "df_final_predictions= pd.DataFrame()"
   ]
  },
  {
   "cell_type": "code",
   "execution_count": 10,
   "metadata": {},
   "outputs": [],
   "source": [
    "df_final_predictions[\"ds\"] = df_test[\"ds\"]"
   ]
  },
  {
   "cell_type": "code",
   "execution_count": 11,
   "metadata": {},
   "outputs": [],
   "source": [
    "df_final_predictions [\"prophet\"] = forecast_prophet"
   ]
  },
  {
   "cell_type": "code",
   "execution_count": 12,
   "metadata": {},
   "outputs": [],
   "source": [
    "def calculate_mape(actual, predicted):\n",
    "    actual, predicted = np.array(actual), np.array(predicted)\n",
    "    return np.mean(np.abs((actual - predicted) / actual)) * 100"
   ]
  },
  {
   "cell_type": "code",
   "execution_count": 13,
   "metadata": {},
   "outputs": [
    {
     "name": "stdout",
     "output_type": "stream",
     "text": [
      "MAPE: 21.35%\n"
     ]
    }
   ],
   "source": [
    "mape=calculate_mape(df_test[\"y\"],forecast_prophet)\n",
    "\n",
    "print(f'MAPE: {mape:.2f}%')"
   ]
  },
  {
   "cell_type": "code",
   "execution_count": null,
   "metadata": {},
   "outputs": [],
   "source": []
  },
  {
   "cell_type": "markdown",
   "metadata": {},
   "source": [
    "# 3. Prophet adding regressors"
   ]
  },
  {
   "cell_type": "code",
   "execution_count": 14,
   "metadata": {},
   "outputs": [],
   "source": [
    "model_prophet_multiva = Prophet()"
   ]
  },
  {
   "cell_type": "code",
   "execution_count": 15,
   "metadata": {},
   "outputs": [],
   "source": [
    "for e in df_train.columns[2:]:\n",
    "    model_prophet_multiva.add_regressor(e)"
   ]
  },
  {
   "cell_type": "code",
   "execution_count": 16,
   "metadata": {},
   "outputs": [
    {
     "name": "stderr",
     "output_type": "stream",
     "text": [
      "18:53:09 - cmdstanpy - INFO - Chain [1] start processing\n",
      "18:53:10 - cmdstanpy - INFO - Chain [1] done processing\n"
     ]
    },
    {
     "data": {
      "text/plain": [
       "<prophet.forecaster.Prophet at 0x2b8b03e3c10>"
      ]
     },
     "execution_count": 16,
     "metadata": {},
     "output_type": "execute_result"
    }
   ],
   "source": [
    "model_prophet_multiva.fit(df_train)"
   ]
  },
  {
   "cell_type": "code",
   "execution_count": 17,
   "metadata": {},
   "outputs": [],
   "source": [
    "forecast_prophet_multiva = model_prophet_multiva.predict(df_test.drop(columns=\"y\"))[\"yhat\"].values"
   ]
  },
  {
   "cell_type": "code",
   "execution_count": 18,
   "metadata": {},
   "outputs": [
    {
     "name": "stdout",
     "output_type": "stream",
     "text": [
      "MAPE: 21.87%\n"
     ]
    }
   ],
   "source": [
    "mape=calculate_mape(df_test[\"y\"],forecast_prophet_multiva)\n",
    "\n",
    "print(f'MAPE: {mape:.2f}%')"
   ]
  },
  {
   "cell_type": "code",
   "execution_count": 19,
   "metadata": {},
   "outputs": [],
   "source": [
    "df_final_predictions[\"prophet_multiva\"] = forecast_prophet_multiva"
   ]
  },
  {
   "cell_type": "code",
   "execution_count": null,
   "metadata": {},
   "outputs": [],
   "source": []
  },
  {
   "cell_type": "markdown",
   "metadata": {},
   "source": [
    "# 4. Autoarima"
   ]
  },
  {
   "cell_type": "code",
   "execution_count": 20,
   "metadata": {},
   "outputs": [],
   "source": [
    "from pmdarima import auto_arima"
   ]
  },
  {
   "cell_type": "code",
   "execution_count": 21,
   "metadata": {},
   "outputs": [],
   "source": [
    "df_train_arima = df_train.copy()\n",
    "df_test_arima = df_test.copy()\n",
    "\n",
    "df_train_arima.set_index('ds', inplace=True)\n",
    "df_train_arima = df_train_arima[[\"y\"]]\n",
    "\n",
    "df_test_arima.set_index('ds', inplace=True)\n",
    "df_test_arima = df_test_arima[[\"y\"]]"
   ]
  },
  {
   "cell_type": "code",
   "execution_count": 22,
   "metadata": {},
   "outputs": [
    {
     "name": "stdout",
     "output_type": "stream",
     "text": [
      "Performing stepwise search to minimize aic\n",
      " ARIMA(2,0,2)(0,0,0)[0] intercept   : AIC=268.565, Time=0.13 sec\n",
      " ARIMA(0,0,0)(0,0,0)[0] intercept   : AIC=325.069, Time=0.03 sec\n",
      " ARIMA(1,0,0)(0,0,0)[0] intercept   : AIC=278.007, Time=0.05 sec\n",
      " ARIMA(0,0,1)(0,0,0)[0] intercept   : AIC=292.544, Time=0.03 sec\n",
      " ARIMA(0,0,0)(0,0,0)[0]             : AIC=646.754, Time=0.01 sec\n",
      " ARIMA(1,0,2)(0,0,0)[0] intercept   : AIC=267.768, Time=0.08 sec\n",
      " ARIMA(0,0,2)(0,0,0)[0] intercept   : AIC=290.754, Time=0.04 sec\n",
      " ARIMA(1,0,1)(0,0,0)[0] intercept   : AIC=265.856, Time=0.07 sec\n",
      " ARIMA(2,0,1)(0,0,0)[0] intercept   : AIC=267.825, Time=0.16 sec\n",
      " ARIMA(2,0,0)(0,0,0)[0] intercept   : AIC=274.014, Time=0.08 sec\n",
      " ARIMA(1,0,1)(0,0,0)[0]             : AIC=272.651, Time=0.04 sec\n",
      "\n",
      "Best model:  ARIMA(1,0,1)(0,0,0)[0] intercept\n",
      "Total fit time: 0.740 seconds\n",
      "                               SARIMAX Results                                \n",
      "==============================================================================\n",
      "Dep. Variable:                      y   No. Observations:                  128\n",
      "Model:               SARIMAX(1, 0, 1)   Log Likelihood                -128.928\n",
      "Date:                Mon, 20 May 2024   AIC                            265.856\n",
      "Time:                        18:53:12   BIC                            277.264\n",
      "Sample:                    01-06-2020   HQIC                           270.491\n",
      "                         - 06-13-2022                                         \n",
      "Covariance Type:                  opg                                         \n",
      "==============================================================================\n",
      "                 coef    std err          z      P>|z|      [0.025      0.975]\n",
      "------------------------------------------------------------------------------\n",
      "intercept      0.3084      0.154      1.997      0.046       0.006       0.611\n",
      "ar.L1          0.8938      0.053     16.859      0.000       0.790       0.998\n",
      "ma.L1         -0.5344      0.106     -5.021      0.000      -0.743      -0.326\n",
      "sigma2         0.4367      0.060      7.292      0.000       0.319       0.554\n",
      "===================================================================================\n",
      "Ljung-Box (L1) (Q):                   0.01   Jarque-Bera (JB):                 0.60\n",
      "Prob(Q):                              0.92   Prob(JB):                         0.74\n",
      "Heteroskedasticity (H):               0.80   Skew:                            -0.03\n",
      "Prob(H) (two-sided):                  0.47   Kurtosis:                         2.67\n",
      "===================================================================================\n",
      "\n",
      "Warnings:\n",
      "[1] Covariance matrix calculated using the outer product of gradients (complex-step).\n"
     ]
    }
   ],
   "source": [
    "# Train AutoARIMA model\n",
    "model_autoarima = auto_arima(df_train_arima, \n",
    "                   seasonal=True,  # Change to True if you want to fit a seasonal ARIMA\n",
    "\n",
    "                   stepwise=True,   # Set to False to perform a more exhaustive search\n",
    "                   trace=True)      # Set to True to see the search progress\n",
    "\n",
    "# Print the best model parameters\n",
    "print(model_autoarima.summary())"
   ]
  },
  {
   "cell_type": "code",
   "execution_count": 23,
   "metadata": {},
   "outputs": [],
   "source": [
    "forecast_autoarima = model_autoarima.predict(n_periods=df_test_arima.shape[0]).values"
   ]
  },
  {
   "cell_type": "code",
   "execution_count": 24,
   "metadata": {},
   "outputs": [],
   "source": [
    "df_final_predictions[\"autoarima\"] = forecast_autoarima"
   ]
  },
  {
   "cell_type": "code",
   "execution_count": 25,
   "metadata": {},
   "outputs": [
    {
     "name": "stdout",
     "output_type": "stream",
     "text": [
      "MAPE: 21.07%\n"
     ]
    }
   ],
   "source": [
    "mape=calculate_mape(df_test[\"y\"],forecast_autoarima)\n",
    "\n",
    "print(f'MAPE: {mape:.2f}%')"
   ]
  },
  {
   "cell_type": "code",
   "execution_count": null,
   "metadata": {},
   "outputs": [],
   "source": []
  },
  {
   "cell_type": "markdown",
   "metadata": {},
   "source": [
    "# 5. Ensembling (preparing data)"
   ]
  },
  {
   "cell_type": "code",
   "execution_count": 26,
   "metadata": {},
   "outputs": [
    {
     "name": "stderr",
     "output_type": "stream",
     "text": [
      "18:53:12 - cmdstanpy - INFO - Chain [1] start processing\n",
      "18:53:12 - cmdstanpy - INFO - Chain [1] done processing\n"
     ]
    }
   ],
   "source": [
    "model_prophet_meta = Prophet()\n",
    "\n",
    "model_prophet_meta.fit(df_train_meta)\n",
    "\n",
    "forecast_prophet_meta = model_prophet_meta.predict(df_validation_meta[[\"ds\"]])[\"yhat\"].values\n",
    "\n",
    "df_meta= pd.DataFrame()\n",
    "\n",
    "df_meta[\"ds\"] = df_validation_meta[\"ds\"]\n",
    "\n",
    "df_meta [\"prophet\"] = forecast_prophet_meta"
   ]
  },
  {
   "cell_type": "code",
   "execution_count": null,
   "metadata": {},
   "outputs": [],
   "source": []
  },
  {
   "cell_type": "code",
   "execution_count": 27,
   "metadata": {},
   "outputs": [
    {
     "name": "stderr",
     "output_type": "stream",
     "text": [
      "18:53:12 - cmdstanpy - INFO - Chain [1] start processing\n",
      "18:53:12 - cmdstanpy - INFO - Chain [1] done processing\n"
     ]
    }
   ],
   "source": [
    "model_prophet_multiva_meta = Prophet()\n",
    "\n",
    "for e in df_train_meta.columns[2:]:\n",
    "    model_prophet_multiva_meta.add_regressor(e)\n",
    "\n",
    "model_prophet_multiva_meta.fit(df_train_meta)\n",
    "\n",
    "forecast_prophet_multiva_meta = model_prophet_multiva_meta.predict(df_validation_meta.drop(columns=\"y\"))[\"yhat\"].values\n",
    "\n",
    "df_meta[\"prophet_multiva\"] = forecast_prophet_multiva_meta"
   ]
  },
  {
   "cell_type": "code",
   "execution_count": null,
   "metadata": {},
   "outputs": [],
   "source": []
  },
  {
   "cell_type": "code",
   "execution_count": 28,
   "metadata": {},
   "outputs": [
    {
     "name": "stdout",
     "output_type": "stream",
     "text": [
      "Performing stepwise search to minimize aic\n",
      " ARIMA(2,0,2)(0,0,0)[0] intercept   : AIC=268.565, Time=0.12 sec\n",
      " ARIMA(0,0,0)(0,0,0)[0] intercept   : AIC=325.069, Time=0.03 sec\n",
      " ARIMA(1,0,0)(0,0,0)[0] intercept   : AIC=278.007, Time=0.05 sec\n",
      " ARIMA(0,0,1)(0,0,0)[0] intercept   : AIC=292.544, Time=0.03 sec\n",
      " ARIMA(0,0,0)(0,0,0)[0]             : AIC=646.754, Time=0.01 sec\n",
      " ARIMA(1,0,2)(0,0,0)[0] intercept   : AIC=267.768, Time=0.08 sec\n",
      " ARIMA(0,0,2)(0,0,0)[0] intercept   : AIC=290.754, Time=0.04 sec\n",
      " ARIMA(1,0,1)(0,0,0)[0] intercept   : AIC=265.856, Time=0.06 sec\n",
      " ARIMA(2,0,1)(0,0,0)[0] intercept   : AIC=267.825, Time=0.16 sec\n",
      " ARIMA(2,0,0)(0,0,0)[0] intercept   : AIC=274.014, Time=0.07 sec\n",
      " ARIMA(1,0,1)(0,0,0)[0]             : AIC=272.651, Time=0.04 sec\n",
      "\n",
      "Best model:  ARIMA(1,0,1)(0,0,0)[0] intercept\n",
      "Total fit time: 0.713 seconds\n",
      "                               SARIMAX Results                                \n",
      "==============================================================================\n",
      "Dep. Variable:                      y   No. Observations:                  128\n",
      "Model:               SARIMAX(1, 0, 1)   Log Likelihood                -128.928\n",
      "Date:                Mon, 20 May 2024   AIC                            265.856\n",
      "Time:                        18:53:13   BIC                            277.264\n",
      "Sample:                    01-06-2020   HQIC                           270.491\n",
      "                         - 06-13-2022                                         \n",
      "Covariance Type:                  opg                                         \n",
      "==============================================================================\n",
      "                 coef    std err          z      P>|z|      [0.025      0.975]\n",
      "------------------------------------------------------------------------------\n",
      "intercept      0.3084      0.154      1.997      0.046       0.006       0.611\n",
      "ar.L1          0.8938      0.053     16.859      0.000       0.790       0.998\n",
      "ma.L1         -0.5344      0.106     -5.021      0.000      -0.743      -0.326\n",
      "sigma2         0.4367      0.060      7.292      0.000       0.319       0.554\n",
      "===================================================================================\n",
      "Ljung-Box (L1) (Q):                   0.01   Jarque-Bera (JB):                 0.60\n",
      "Prob(Q):                              0.92   Prob(JB):                         0.74\n",
      "Heteroskedasticity (H):               0.80   Skew:                            -0.03\n",
      "Prob(H) (two-sided):                  0.47   Kurtosis:                         2.67\n",
      "===================================================================================\n",
      "\n",
      "Warnings:\n",
      "[1] Covariance matrix calculated using the outer product of gradients (complex-step).\n"
     ]
    }
   ],
   "source": [
    "df_train_arima_meta = df_train_meta.copy()\n",
    "df_test_arima_meta = df_validation_meta.copy()\n",
    "\n",
    "df_train_arima_meta.set_index('ds', inplace=True)\n",
    "df_train_arima_meta = df_train_arima_meta[[\"y\"]]\n",
    "\n",
    "df_test_arima_meta.set_index('ds', inplace=True)\n",
    "df_test_arima_meta = df_test_arima_meta[[\"y\"]]\n",
    "\n",
    "# Train AutoARIMA model\n",
    "model_autoarima_meta = auto_arima(df_train_arima, \n",
    "                   seasonal=True,  # Change to True if you want to fit a seasonal ARIMA\n",
    "\n",
    "                   stepwise=True,   # Set to False to perform a more exhaustive search\n",
    "                   trace=True)      # Set to True to see the search progress\n",
    "\n",
    "# Print the best model parameters\n",
    "print(model_autoarima_meta.summary())"
   ]
  },
  {
   "cell_type": "code",
   "execution_count": 29,
   "metadata": {},
   "outputs": [],
   "source": [
    "forecast_autoarima_meta = model_autoarima_meta.predict(n_periods=df_validation_meta.shape[0]).values\n",
    "\n",
    "df_meta[\"autoarima\"] = forecast_autoarima_meta"
   ]
  },
  {
   "cell_type": "code",
   "execution_count": null,
   "metadata": {},
   "outputs": [],
   "source": []
  },
  {
   "cell_type": "code",
   "execution_count": 30,
   "metadata": {},
   "outputs": [],
   "source": [
    "df_meta[\"average_predictions\"] = df_meta[['prophet', 'prophet_multiva', 'autoarima']].mean(axis=1)"
   ]
  },
  {
   "cell_type": "code",
   "execution_count": 31,
   "metadata": {},
   "outputs": [],
   "source": [
    "df_meta[\"real_values\"] = df_validation_meta[\"y\"]"
   ]
  },
  {
   "cell_type": "code",
   "execution_count": null,
   "metadata": {},
   "outputs": [],
   "source": []
  },
  {
   "cell_type": "code",
   "execution_count": 32,
   "metadata": {},
   "outputs": [
    {
     "name": "stdout",
     "output_type": "stream",
     "text": [
      "MAPE: 21.07%\n"
     ]
    }
   ],
   "source": [
    "mape=calculate_mape(df_test[\"y\"],forecast_autoarima)\n",
    "\n",
    "print(f'MAPE: {mape:.2f}%')"
   ]
  },
  {
   "cell_type": "code",
   "execution_count": 33,
   "metadata": {},
   "outputs": [
    {
     "name": "stdout",
     "output_type": "stream",
     "text": [
      "MAPE of prophet: 27.26%\n",
      "MAPE of prophet_multiva: 18.22%\n",
      "MAPE of autoarima: 21.16%\n",
      "MAPE of average_predictions: 20.45%\n"
     ]
    }
   ],
   "source": [
    "for e in df_meta.columns[1:-1]:\n",
    "    mape=calculate_mape(df_meta[\"real_values\"],df_meta[e])\n",
    "    print(f'MAPE of {e}: {mape:.2f}%')"
   ]
  },
  {
   "cell_type": "code",
   "execution_count": null,
   "metadata": {},
   "outputs": [],
   "source": []
  },
  {
   "cell_type": "markdown",
   "metadata": {},
   "source": [
    "# 6. Ensembling (Training Linear Regresion)"
   ]
  },
  {
   "cell_type": "code",
   "execution_count": 34,
   "metadata": {},
   "outputs": [],
   "source": [
    "from sklearn.linear_model import LinearRegression\n",
    "from sklearn.metrics import mean_squared_error, r2_score"
   ]
  },
  {
   "cell_type": "code",
   "execution_count": 35,
   "metadata": {},
   "outputs": [],
   "source": [
    "df_meta = df_meta.reset_index(drop=True)"
   ]
  },
  {
   "cell_type": "code",
   "execution_count": 42,
   "metadata": {},
   "outputs": [],
   "source": [
    "lr = LinearRegression()"
   ]
  },
  {
   "cell_type": "code",
   "execution_count": 51,
   "metadata": {},
   "outputs": [],
   "source": [
    "lim=int(df_meta.shape[0]*0.7)\n",
    "X_train = df_meta[[\"prophet\", \"prophet_multiva\", \"autoarima\"]].iloc[:lim]\n",
    "y_train = df_meta [[\"real_values\"]].iloc[:lim]\n",
    "\n",
    "X_test=df_meta[[\"prophet\", \"prophet_multiva\", \"autoarima\"]].iloc[lim:]\n",
    "y_test = df_meta [[\"real_values\"]].iloc[lim:]"
   ]
  },
  {
   "cell_type": "code",
   "execution_count": 53,
   "metadata": {},
   "outputs": [],
   "source": [
    "lr.fit(X_train, y_train)\n",
    "\n",
    "y_pred = lr.predict(X_test)"
   ]
  },
  {
   "cell_type": "code",
   "execution_count": 54,
   "metadata": {},
   "outputs": [
    {
     "name": "stdout",
     "output_type": "stream",
     "text": [
      "Mean Squared Error: 0.3515840287877502\n",
      "R^2 Score: 0.23368631676424279\n"
     ]
    }
   ],
   "source": [
    "mse = mean_squared_error(y_test, y_pred)\n",
    "r2 = r2_score(y_test, y_pred)\n",
    "\n",
    "print(f'Mean Squared Error: {mse}')\n",
    "print(f'R^2 Score: {r2}')"
   ]
  },
  {
   "cell_type": "code",
   "execution_count": 55,
   "metadata": {},
   "outputs": [
    {
     "name": "stdout",
     "output_type": "stream",
     "text": [
      "Mean Squared Error: 0.39001008221362243\n",
      "R^2 Score: 0.38343398507475457\n"
     ]
    }
   ],
   "source": [
    "y_pred = lr.predict(X_train)\n",
    "mse = mean_squared_error(y_train, y_pred)\n",
    "r2 = r2_score(y_train, y_pred)\n",
    "\n",
    "print(f'Mean Squared Error: {mse}')\n",
    "print(f'R^2 Score: {r2}')"
   ]
  },
  {
   "cell_type": "code",
   "execution_count": null,
   "metadata": {},
   "outputs": [],
   "source": []
  },
  {
   "cell_type": "code",
   "execution_count": null,
   "metadata": {},
   "outputs": [],
   "source": []
  },
  {
   "cell_type": "code",
   "execution_count": null,
   "metadata": {},
   "outputs": [],
   "source": []
  },
  {
   "cell_type": "markdown",
   "metadata": {},
   "source": [
    "# 7. Final Predictions"
   ]
  },
  {
   "cell_type": "code",
   "execution_count": 57,
   "metadata": {},
   "outputs": [],
   "source": [
    "df_final_predictions[\"average_predictions\"] = df_final_predictions[['prophet', 'prophet_multiva', 'autoarima']].mean(axis=1)"
   ]
  },
  {
   "cell_type": "code",
   "execution_count": 59,
   "metadata": {},
   "outputs": [],
   "source": [
    "testing_X = df_final_predictions[['prophet', 'prophet_multiva', 'autoarima']]"
   ]
  },
  {
   "cell_type": "code",
   "execution_count": null,
   "metadata": {},
   "outputs": [],
   "source": [
    "# We decide to train the algorithm with full data of the validation"
   ]
  },
  {
   "cell_type": "code",
   "execution_count": 72,
   "metadata": {},
   "outputs": [
    {
     "data": {
      "text/html": [
       "<style>#sk-container-id-2 {color: black;background-color: white;}#sk-container-id-2 pre{padding: 0;}#sk-container-id-2 div.sk-toggleable {background-color: white;}#sk-container-id-2 label.sk-toggleable__label {cursor: pointer;display: block;width: 100%;margin-bottom: 0;padding: 0.3em;box-sizing: border-box;text-align: center;}#sk-container-id-2 label.sk-toggleable__label-arrow:before {content: \"▸\";float: left;margin-right: 0.25em;color: #696969;}#sk-container-id-2 label.sk-toggleable__label-arrow:hover:before {color: black;}#sk-container-id-2 div.sk-estimator:hover label.sk-toggleable__label-arrow:before {color: black;}#sk-container-id-2 div.sk-toggleable__content {max-height: 0;max-width: 0;overflow: hidden;text-align: left;background-color: #f0f8ff;}#sk-container-id-2 div.sk-toggleable__content pre {margin: 0.2em;color: black;border-radius: 0.25em;background-color: #f0f8ff;}#sk-container-id-2 input.sk-toggleable__control:checked~div.sk-toggleable__content {max-height: 200px;max-width: 100%;overflow: auto;}#sk-container-id-2 input.sk-toggleable__control:checked~label.sk-toggleable__label-arrow:before {content: \"▾\";}#sk-container-id-2 div.sk-estimator input.sk-toggleable__control:checked~label.sk-toggleable__label {background-color: #d4ebff;}#sk-container-id-2 div.sk-label input.sk-toggleable__control:checked~label.sk-toggleable__label {background-color: #d4ebff;}#sk-container-id-2 input.sk-hidden--visually {border: 0;clip: rect(1px 1px 1px 1px);clip: rect(1px, 1px, 1px, 1px);height: 1px;margin: -1px;overflow: hidden;padding: 0;position: absolute;width: 1px;}#sk-container-id-2 div.sk-estimator {font-family: monospace;background-color: #f0f8ff;border: 1px dotted black;border-radius: 0.25em;box-sizing: border-box;margin-bottom: 0.5em;}#sk-container-id-2 div.sk-estimator:hover {background-color: #d4ebff;}#sk-container-id-2 div.sk-parallel-item::after {content: \"\";width: 100%;border-bottom: 1px solid gray;flex-grow: 1;}#sk-container-id-2 div.sk-label:hover label.sk-toggleable__label {background-color: #d4ebff;}#sk-container-id-2 div.sk-serial::before {content: \"\";position: absolute;border-left: 1px solid gray;box-sizing: border-box;top: 0;bottom: 0;left: 50%;z-index: 0;}#sk-container-id-2 div.sk-serial {display: flex;flex-direction: column;align-items: center;background-color: white;padding-right: 0.2em;padding-left: 0.2em;position: relative;}#sk-container-id-2 div.sk-item {position: relative;z-index: 1;}#sk-container-id-2 div.sk-parallel {display: flex;align-items: stretch;justify-content: center;background-color: white;position: relative;}#sk-container-id-2 div.sk-item::before, #sk-container-id-2 div.sk-parallel-item::before {content: \"\";position: absolute;border-left: 1px solid gray;box-sizing: border-box;top: 0;bottom: 0;left: 50%;z-index: -1;}#sk-container-id-2 div.sk-parallel-item {display: flex;flex-direction: column;z-index: 1;position: relative;background-color: white;}#sk-container-id-2 div.sk-parallel-item:first-child::after {align-self: flex-end;width: 50%;}#sk-container-id-2 div.sk-parallel-item:last-child::after {align-self: flex-start;width: 50%;}#sk-container-id-2 div.sk-parallel-item:only-child::after {width: 0;}#sk-container-id-2 div.sk-dashed-wrapped {border: 1px dashed gray;margin: 0 0.4em 0.5em 0.4em;box-sizing: border-box;padding-bottom: 0.4em;background-color: white;}#sk-container-id-2 div.sk-label label {font-family: monospace;font-weight: bold;display: inline-block;line-height: 1.2em;}#sk-container-id-2 div.sk-label-container {text-align: center;}#sk-container-id-2 div.sk-container {/* jupyter's `normalize.less` sets `[hidden] { display: none; }` but bootstrap.min.css set `[hidden] { display: none !important; }` so we also need the `!important` here to be able to override the default hidden behavior on the sphinx rendered scikit-learn.org. See: https://github.com/scikit-learn/scikit-learn/issues/21755 */display: inline-block !important;position: relative;}#sk-container-id-2 div.sk-text-repr-fallback {display: none;}</style><div id=\"sk-container-id-2\" class=\"sk-top-container\"><div class=\"sk-text-repr-fallback\"><pre>LinearRegression()</pre><b>In a Jupyter environment, please rerun this cell to show the HTML representation or trust the notebook. <br />On GitHub, the HTML representation is unable to render, please try loading this page with nbviewer.org.</b></div><div class=\"sk-container\" hidden><div class=\"sk-item\"><div class=\"sk-estimator sk-toggleable\"><input class=\"sk-toggleable__control sk-hidden--visually\" id=\"sk-estimator-id-2\" type=\"checkbox\" checked><label for=\"sk-estimator-id-2\" class=\"sk-toggleable__label sk-toggleable__label-arrow\">LinearRegression</label><div class=\"sk-toggleable__content\"><pre>LinearRegression()</pre></div></div></div></div></div>"
      ],
      "text/plain": [
       "LinearRegression()"
      ]
     },
     "execution_count": 72,
     "metadata": {},
     "output_type": "execute_result"
    }
   ],
   "source": [
    "X_train = df_meta[[\"prophet\", \"prophet_multiva\", \"autoarima\"]]\n",
    "y_train = df_meta [[\"real_values\"]]\n",
    "lr.fit(X_train, y_train)"
   ]
  },
  {
   "cell_type": "code",
   "execution_count": 73,
   "metadata": {},
   "outputs": [],
   "source": [
    "lr_predictions = lr.predict(testing_X)"
   ]
  },
  {
   "cell_type": "code",
   "execution_count": 74,
   "metadata": {},
   "outputs": [],
   "source": [
    "df_final_predictions[\"lr_predictions\"] = lr_predictions"
   ]
  },
  {
   "cell_type": "code",
   "execution_count": 75,
   "metadata": {},
   "outputs": [
    {
     "name": "stdout",
     "output_type": "stream",
     "text": [
      "Coefficients: [[8.6365826  0.39039091 8.07040303]]\n",
      "Intercept: [-41.78173911]\n"
     ]
    }
   ],
   "source": [
    "print('Coefficients:', lr.coef_)\n",
    "print('Intercept:', lr.intercept_)"
   ]
  },
  {
   "cell_type": "code",
   "execution_count": 76,
   "metadata": {},
   "outputs": [
    {
     "name": "stdout",
     "output_type": "stream",
     "text": [
      "MAPE of prophet: 21.35%\n",
      "MAPE of prophet_multiva: 21.87%\n",
      "MAPE of autoarima: 21.07%\n",
      "MAPE of average_predictions: 17.84%\n",
      "MAPE of lr_predictions: 289.60%\n"
     ]
    }
   ],
   "source": [
    "for e in df_final_predictions.columns[1:]:\n",
    "    mape=calculate_mape(df_test[\"y\"],df_final_predictions[e])\n",
    "    print(f'MAPE of {e}: {mape:.2f}%')"
   ]
  },
  {
   "cell_type": "code",
   "execution_count": 78,
   "metadata": {},
   "outputs": [
    {
     "data": {
      "text/html": [
       "<div>\n",
       "<style scoped>\n",
       "    .dataframe tbody tr th:only-of-type {\n",
       "        vertical-align: middle;\n",
       "    }\n",
       "\n",
       "    .dataframe tbody tr th {\n",
       "        vertical-align: top;\n",
       "    }\n",
       "\n",
       "    .dataframe thead th {\n",
       "        text-align: right;\n",
       "    }\n",
       "</style>\n",
       "<table border=\"1\" class=\"dataframe\">\n",
       "  <thead>\n",
       "    <tr style=\"text-align: right;\">\n",
       "      <th></th>\n",
       "      <th>ds</th>\n",
       "      <th>prophet</th>\n",
       "      <th>prophet_multiva</th>\n",
       "      <th>autoarima</th>\n",
       "      <th>average_predictions</th>\n",
       "      <th>lr_predictions</th>\n",
       "    </tr>\n",
       "  </thead>\n",
       "  <tbody>\n",
       "    <tr>\n",
       "      <th>128</th>\n",
       "      <td>2022-06-20</td>\n",
       "      <td>2.643313</td>\n",
       "      <td>2.753302</td>\n",
       "      <td>2.579606</td>\n",
       "      <td>2.658740</td>\n",
       "      <td>2.940777</td>\n",
       "    </tr>\n",
       "    <tr>\n",
       "      <th>129</th>\n",
       "      <td>2022-06-27</td>\n",
       "      <td>2.670553</td>\n",
       "      <td>2.420241</td>\n",
       "      <td>2.613922</td>\n",
       "      <td>2.568239</td>\n",
       "      <td>3.322950</td>\n",
       "    </tr>\n",
       "    <tr>\n",
       "      <th>130</th>\n",
       "      <td>2022-07-04</td>\n",
       "      <td>2.720760</td>\n",
       "      <td>2.702383</td>\n",
       "      <td>2.644592</td>\n",
       "      <td>2.689245</td>\n",
       "      <td>4.114238</td>\n",
       "    </tr>\n",
       "    <tr>\n",
       "      <th>131</th>\n",
       "      <td>2022-07-11</td>\n",
       "      <td>2.700996</td>\n",
       "      <td>3.220187</td>\n",
       "      <td>2.672004</td>\n",
       "      <td>2.864396</td>\n",
       "      <td>4.366915</td>\n",
       "    </tr>\n",
       "    <tr>\n",
       "      <th>132</th>\n",
       "      <td>2022-07-18</td>\n",
       "      <td>2.586916</td>\n",
       "      <td>3.249357</td>\n",
       "      <td>2.696504</td>\n",
       "      <td>2.844259</td>\n",
       "      <td>3.590764</td>\n",
       "    </tr>\n",
       "    <tr>\n",
       "      <th>133</th>\n",
       "      <td>2022-07-25</td>\n",
       "      <td>2.456163</td>\n",
       "      <td>2.668714</td>\n",
       "      <td>2.718401</td>\n",
       "      <td>2.614426</td>\n",
       "      <td>2.411554</td>\n",
       "    </tr>\n",
       "    <tr>\n",
       "      <th>134</th>\n",
       "      <td>2022-08-01</td>\n",
       "      <td>2.413950</td>\n",
       "      <td>2.820286</td>\n",
       "      <td>2.737972</td>\n",
       "      <td>2.657403</td>\n",
       "      <td>2.264093</td>\n",
       "    </tr>\n",
       "    <tr>\n",
       "      <th>135</th>\n",
       "      <td>2022-08-08</td>\n",
       "      <td>2.502929</td>\n",
       "      <td>3.168919</td>\n",
       "      <td>2.755464</td>\n",
       "      <td>2.809104</td>\n",
       "      <td>3.309835</td>\n",
       "    </tr>\n",
       "    <tr>\n",
       "      <th>136</th>\n",
       "      <td>2022-08-15</td>\n",
       "      <td>2.692913</td>\n",
       "      <td>3.286053</td>\n",
       "      <td>2.771098</td>\n",
       "      <td>2.916688</td>\n",
       "      <td>5.122545</td>\n",
       "    </tr>\n",
       "    <tr>\n",
       "      <th>137</th>\n",
       "      <td>2022-08-22</td>\n",
       "      <td>2.940951</td>\n",
       "      <td>2.914187</td>\n",
       "      <td>2.785070</td>\n",
       "      <td>2.880069</td>\n",
       "      <td>7.232340</td>\n",
       "    </tr>\n",
       "    <tr>\n",
       "      <th>138</th>\n",
       "      <td>2022-08-29</td>\n",
       "      <td>3.234074</td>\n",
       "      <td>3.308972</td>\n",
       "      <td>2.797559</td>\n",
       "      <td>3.113535</td>\n",
       "      <td>10.018828</td>\n",
       "    </tr>\n",
       "    <tr>\n",
       "      <th>139</th>\n",
       "      <td>2022-09-05</td>\n",
       "      <td>3.565905</td>\n",
       "      <td>3.453300</td>\n",
       "      <td>2.808720</td>\n",
       "      <td>3.275975</td>\n",
       "      <td>13.031134</td>\n",
       "    </tr>\n",
       "    <tr>\n",
       "      <th>140</th>\n",
       "      <td>2022-09-12</td>\n",
       "      <td>3.893220</td>\n",
       "      <td>4.274197</td>\n",
       "      <td>2.818696</td>\n",
       "      <td>3.662038</td>\n",
       "      <td>16.259002</td>\n",
       "    </tr>\n",
       "    <tr>\n",
       "      <th>141</th>\n",
       "      <td>2022-09-19</td>\n",
       "      <td>4.143701</td>\n",
       "      <td>4.671591</td>\n",
       "      <td>2.827612</td>\n",
       "      <td>3.880968</td>\n",
       "      <td>18.649391</td>\n",
       "    </tr>\n",
       "    <tr>\n",
       "      <th>142</th>\n",
       "      <td>2022-09-26</td>\n",
       "      <td>4.273468</td>\n",
       "      <td>4.693433</td>\n",
       "      <td>2.835581</td>\n",
       "      <td>3.934161</td>\n",
       "      <td>19.842980</td>\n",
       "    </tr>\n",
       "    <tr>\n",
       "      <th>143</th>\n",
       "      <td>2022-10-03</td>\n",
       "      <td>4.302978</td>\n",
       "      <td>4.684647</td>\n",
       "      <td>2.842704</td>\n",
       "      <td>3.943443</td>\n",
       "      <td>20.151889</td>\n",
       "    </tr>\n",
       "    <tr>\n",
       "      <th>144</th>\n",
       "      <td>2022-10-10</td>\n",
       "      <td>4.285913</td>\n",
       "      <td>4.077932</td>\n",
       "      <td>2.849069</td>\n",
       "      <td>3.737638</td>\n",
       "      <td>19.819026</td>\n",
       "    </tr>\n",
       "    <tr>\n",
       "      <th>145</th>\n",
       "      <td>2022-10-17</td>\n",
       "      <td>4.252395</td>\n",
       "      <td>3.989859</td>\n",
       "      <td>2.854759</td>\n",
       "      <td>3.699004</td>\n",
       "      <td>19.541075</td>\n",
       "    </tr>\n",
       "    <tr>\n",
       "      <th>146</th>\n",
       "      <td>2022-10-24</td>\n",
       "      <td>4.198645</td>\n",
       "      <td>3.742727</td>\n",
       "      <td>2.859844</td>\n",
       "      <td>3.600405</td>\n",
       "      <td>19.021423</td>\n",
       "    </tr>\n",
       "    <tr>\n",
       "      <th>147</th>\n",
       "      <td>2022-10-31</td>\n",
       "      <td>4.128340</td>\n",
       "      <td>3.983869</td>\n",
       "      <td>2.864388</td>\n",
       "      <td>3.658866</td>\n",
       "      <td>18.545043</td>\n",
       "    </tr>\n",
       "    <tr>\n",
       "      <th>148</th>\n",
       "      <td>2022-11-07</td>\n",
       "      <td>4.076056</td>\n",
       "      <td>4.206630</td>\n",
       "      <td>2.868450</td>\n",
       "      <td>3.717045</td>\n",
       "      <td>18.213234</td>\n",
       "    </tr>\n",
       "    <tr>\n",
       "      <th>149</th>\n",
       "      <td>2022-11-14</td>\n",
       "      <td>4.065296</td>\n",
       "      <td>3.980867</td>\n",
       "      <td>2.872081</td>\n",
       "      <td>3.639415</td>\n",
       "      <td>18.061474</td>\n",
       "    </tr>\n",
       "    <tr>\n",
       "      <th>150</th>\n",
       "      <td>2022-11-21</td>\n",
       "      <td>4.050256</td>\n",
       "      <td>4.096270</td>\n",
       "      <td>2.875326</td>\n",
       "      <td>3.673951</td>\n",
       "      <td>18.002815</td>\n",
       "    </tr>\n",
       "    <tr>\n",
       "      <th>151</th>\n",
       "      <td>2022-11-28</td>\n",
       "      <td>3.933508</td>\n",
       "      <td>4.363259</td>\n",
       "      <td>2.878226</td>\n",
       "      <td>3.724998</td>\n",
       "      <td>17.122147</td>\n",
       "    </tr>\n",
       "    <tr>\n",
       "      <th>152</th>\n",
       "      <td>2022-12-05</td>\n",
       "      <td>3.670768</td>\n",
       "      <td>4.103449</td>\n",
       "      <td>2.880818</td>\n",
       "      <td>3.551678</td>\n",
       "      <td>14.772461</td>\n",
       "    </tr>\n",
       "    <tr>\n",
       "      <th>153</th>\n",
       "      <td>2022-12-12</td>\n",
       "      <td>3.356639</td>\n",
       "      <td>4.382711</td>\n",
       "      <td>2.883134</td>\n",
       "      <td>3.540828</td>\n",
       "      <td>12.187177</td>\n",
       "    </tr>\n",
       "    <tr>\n",
       "      <th>154</th>\n",
       "      <td>2022-12-19</td>\n",
       "      <td>3.179628</td>\n",
       "      <td>4.912402</td>\n",
       "      <td>2.885205</td>\n",
       "      <td>3.659078</td>\n",
       "      <td>10.881906</td>\n",
       "    </tr>\n",
       "    <tr>\n",
       "      <th>155</th>\n",
       "      <td>2022-12-26</td>\n",
       "      <td>3.265683</td>\n",
       "      <td>5.174799</td>\n",
       "      <td>2.887055</td>\n",
       "      <td>3.775846</td>\n",
       "      <td>11.742495</td>\n",
       "    </tr>\n",
       "    <tr>\n",
       "      <th>156</th>\n",
       "      <td>2023-01-02</td>\n",
       "      <td>3.557165</td>\n",
       "      <td>5.027027</td>\n",
       "      <td>2.888709</td>\n",
       "      <td>3.824300</td>\n",
       "      <td>14.215562</td>\n",
       "    </tr>\n",
       "    <tr>\n",
       "      <th>157</th>\n",
       "      <td>2023-01-09</td>\n",
       "      <td>3.851385</td>\n",
       "      <td>4.321238</td>\n",
       "      <td>2.890188</td>\n",
       "      <td>3.687604</td>\n",
       "      <td>16.493018</td>\n",
       "    </tr>\n",
       "    <tr>\n",
       "      <th>158</th>\n",
       "      <td>2023-01-16</td>\n",
       "      <td>3.967230</td>\n",
       "      <td>4.618877</td>\n",
       "      <td>2.891509</td>\n",
       "      <td>3.825872</td>\n",
       "      <td>17.620381</td>\n",
       "    </tr>\n",
       "    <tr>\n",
       "      <th>159</th>\n",
       "      <td>2023-01-23</td>\n",
       "      <td>3.884790</td>\n",
       "      <td>4.397440</td>\n",
       "      <td>2.892690</td>\n",
       "      <td>3.724974</td>\n",
       "      <td>16.831467</td>\n",
       "    </tr>\n",
       "    <tr>\n",
       "      <th>160</th>\n",
       "      <td>2023-01-30</td>\n",
       "      <td>3.737635</td>\n",
       "      <td>4.544107</td>\n",
       "      <td>2.893745</td>\n",
       "      <td>3.725162</td>\n",
       "      <td>15.626318</td>\n",
       "    </tr>\n",
       "    <tr>\n",
       "      <th>161</th>\n",
       "      <td>2023-02-06</td>\n",
       "      <td>3.683421</td>\n",
       "      <td>4.550310</td>\n",
       "      <td>2.894688</td>\n",
       "      <td>3.709473</td>\n",
       "      <td>15.168132</td>\n",
       "    </tr>\n",
       "    <tr>\n",
       "      <th>162</th>\n",
       "      <td>2023-02-13</td>\n",
       "      <td>3.780376</td>\n",
       "      <td>3.881146</td>\n",
       "      <td>2.895531</td>\n",
       "      <td>3.519018</td>\n",
       "      <td>15.751064</td>\n",
       "    </tr>\n",
       "    <tr>\n",
       "      <th>163</th>\n",
       "      <td>2023-02-20</td>\n",
       "      <td>3.965904</td>\n",
       "      <td>4.002258</td>\n",
       "      <td>2.896285</td>\n",
       "      <td>3.621482</td>\n",
       "      <td>17.406747</td>\n",
       "    </tr>\n",
       "    <tr>\n",
       "      <th>164</th>\n",
       "      <td>2023-02-27</td>\n",
       "      <td>4.126960</td>\n",
       "      <td>4.450691</td>\n",
       "      <td>2.896958</td>\n",
       "      <td>3.824870</td>\n",
       "      <td>18.978223</td>\n",
       "    </tr>\n",
       "    <tr>\n",
       "      <th>165</th>\n",
       "      <td>2023-03-06</td>\n",
       "      <td>4.185236</td>\n",
       "      <td>3.997273</td>\n",
       "      <td>2.897560</td>\n",
       "      <td>3.693356</td>\n",
       "      <td>19.309373</td>\n",
       "    </tr>\n",
       "    <tr>\n",
       "      <th>166</th>\n",
       "      <td>2023-03-13</td>\n",
       "      <td>4.136667</td>\n",
       "      <td>4.200898</td>\n",
       "      <td>2.898098</td>\n",
       "      <td>3.745221</td>\n",
       "      <td>18.973739</td>\n",
       "    </tr>\n",
       "    <tr>\n",
       "      <th>167</th>\n",
       "      <td>2023-03-20</td>\n",
       "      <td>4.035928</td>\n",
       "      <td>4.360043</td>\n",
       "      <td>2.898579</td>\n",
       "      <td>3.764850</td>\n",
       "      <td>18.169706</td>\n",
       "    </tr>\n",
       "    <tr>\n",
       "      <th>168</th>\n",
       "      <td>2023-03-27</td>\n",
       "      <td>3.947009</td>\n",
       "      <td>4.185046</td>\n",
       "      <td>2.899009</td>\n",
       "      <td>3.677022</td>\n",
       "      <td>17.336908</td>\n",
       "    </tr>\n",
       "    <tr>\n",
       "      <th>169</th>\n",
       "      <td>2023-04-03</td>\n",
       "      <td>3.889210</td>\n",
       "      <td>3.972476</td>\n",
       "      <td>2.899393</td>\n",
       "      <td>3.587026</td>\n",
       "      <td>16.757834</td>\n",
       "    </tr>\n",
       "    <tr>\n",
       "      <th>170</th>\n",
       "      <td>2023-04-10</td>\n",
       "      <td>3.814075</td>\n",
       "      <td>3.866870</td>\n",
       "      <td>2.899736</td>\n",
       "      <td>3.526894</td>\n",
       "      <td>16.070462</td>\n",
       "    </tr>\n",
       "    <tr>\n",
       "      <th>171</th>\n",
       "      <td>2023-04-17</td>\n",
       "      <td>3.642302</td>\n",
       "      <td>3.320060</td>\n",
       "      <td>2.900043</td>\n",
       "      <td>3.287469</td>\n",
       "      <td>14.375943</td>\n",
       "    </tr>\n",
       "    <tr>\n",
       "      <th>172</th>\n",
       "      <td>2023-04-24</td>\n",
       "      <td>3.346316</td>\n",
       "      <td>3.126776</td>\n",
       "      <td>2.900317</td>\n",
       "      <td>3.124470</td>\n",
       "      <td>11.746386</td>\n",
       "    </tr>\n",
       "    <tr>\n",
       "      <th>173</th>\n",
       "      <td>2023-05-01</td>\n",
       "      <td>3.007704</td>\n",
       "      <td>3.196264</td>\n",
       "      <td>2.900562</td>\n",
       "      <td>3.034843</td>\n",
       "      <td>8.851042</td>\n",
       "    </tr>\n",
       "    <tr>\n",
       "      <th>174</th>\n",
       "      <td>2023-05-08</td>\n",
       "      <td>2.778857</td>\n",
       "      <td>2.982588</td>\n",
       "      <td>2.900781</td>\n",
       "      <td>2.887409</td>\n",
       "      <td>6.792936</td>\n",
       "    </tr>\n",
       "    <tr>\n",
       "      <th>175</th>\n",
       "      <td>2023-05-15</td>\n",
       "      <td>2.762781</td>\n",
       "      <td>2.710499</td>\n",
       "      <td>2.900977</td>\n",
       "      <td>2.791419</td>\n",
       "      <td>6.549456</td>\n",
       "    </tr>\n",
       "    <tr>\n",
       "      <th>176</th>\n",
       "      <td>2023-05-22</td>\n",
       "      <td>2.918912</td>\n",
       "      <td>2.671192</td>\n",
       "      <td>2.901152</td>\n",
       "      <td>2.830419</td>\n",
       "      <td>7.883962</td>\n",
       "    </tr>\n",
       "    <tr>\n",
       "      <th>177</th>\n",
       "      <td>2023-05-29</td>\n",
       "      <td>3.094505</td>\n",
       "      <td>2.042795</td>\n",
       "      <td>2.901309</td>\n",
       "      <td>2.679536</td>\n",
       "      <td>9.156427</td>\n",
       "    </tr>\n",
       "    <tr>\n",
       "      <th>178</th>\n",
       "      <td>2023-06-05</td>\n",
       "      <td>3.159888</td>\n",
       "      <td>2.462105</td>\n",
       "      <td>2.901448</td>\n",
       "      <td>2.841147</td>\n",
       "      <td>9.885938</td>\n",
       "    </tr>\n",
       "    <tr>\n",
       "      <th>179</th>\n",
       "      <td>2023-06-12</td>\n",
       "      <td>3.114994</td>\n",
       "      <td>2.928710</td>\n",
       "      <td>2.901573</td>\n",
       "      <td>2.981759</td>\n",
       "      <td>9.681374</td>\n",
       "    </tr>\n",
       "    <tr>\n",
       "      <th>180</th>\n",
       "      <td>2023-06-19</td>\n",
       "      <td>3.061335</td>\n",
       "      <td>2.848009</td>\n",
       "      <td>2.901685</td>\n",
       "      <td>2.937010</td>\n",
       "      <td>9.187339</td>\n",
       "    </tr>\n",
       "    <tr>\n",
       "      <th>181</th>\n",
       "      <td>2023-06-26</td>\n",
       "      <td>3.076374</td>\n",
       "      <td>2.848940</td>\n",
       "      <td>2.901785</td>\n",
       "      <td>2.942366</td>\n",
       "      <td>9.318392</td>\n",
       "    </tr>\n",
       "    <tr>\n",
       "      <th>182</th>\n",
       "      <td>2023-07-03</td>\n",
       "      <td>3.129614</td>\n",
       "      <td>3.222094</td>\n",
       "      <td>2.901874</td>\n",
       "      <td>3.084527</td>\n",
       "      <td>9.924598</td>\n",
       "    </tr>\n",
       "  </tbody>\n",
       "</table>\n",
       "</div>"
      ],
      "text/plain": [
       "             ds   prophet  prophet_multiva  autoarima  average_predictions  \\\n",
       "128  2022-06-20  2.643313         2.753302   2.579606             2.658740   \n",
       "129  2022-06-27  2.670553         2.420241   2.613922             2.568239   \n",
       "130  2022-07-04  2.720760         2.702383   2.644592             2.689245   \n",
       "131  2022-07-11  2.700996         3.220187   2.672004             2.864396   \n",
       "132  2022-07-18  2.586916         3.249357   2.696504             2.844259   \n",
       "133  2022-07-25  2.456163         2.668714   2.718401             2.614426   \n",
       "134  2022-08-01  2.413950         2.820286   2.737972             2.657403   \n",
       "135  2022-08-08  2.502929         3.168919   2.755464             2.809104   \n",
       "136  2022-08-15  2.692913         3.286053   2.771098             2.916688   \n",
       "137  2022-08-22  2.940951         2.914187   2.785070             2.880069   \n",
       "138  2022-08-29  3.234074         3.308972   2.797559             3.113535   \n",
       "139  2022-09-05  3.565905         3.453300   2.808720             3.275975   \n",
       "140  2022-09-12  3.893220         4.274197   2.818696             3.662038   \n",
       "141  2022-09-19  4.143701         4.671591   2.827612             3.880968   \n",
       "142  2022-09-26  4.273468         4.693433   2.835581             3.934161   \n",
       "143  2022-10-03  4.302978         4.684647   2.842704             3.943443   \n",
       "144  2022-10-10  4.285913         4.077932   2.849069             3.737638   \n",
       "145  2022-10-17  4.252395         3.989859   2.854759             3.699004   \n",
       "146  2022-10-24  4.198645         3.742727   2.859844             3.600405   \n",
       "147  2022-10-31  4.128340         3.983869   2.864388             3.658866   \n",
       "148  2022-11-07  4.076056         4.206630   2.868450             3.717045   \n",
       "149  2022-11-14  4.065296         3.980867   2.872081             3.639415   \n",
       "150  2022-11-21  4.050256         4.096270   2.875326             3.673951   \n",
       "151  2022-11-28  3.933508         4.363259   2.878226             3.724998   \n",
       "152  2022-12-05  3.670768         4.103449   2.880818             3.551678   \n",
       "153  2022-12-12  3.356639         4.382711   2.883134             3.540828   \n",
       "154  2022-12-19  3.179628         4.912402   2.885205             3.659078   \n",
       "155  2022-12-26  3.265683         5.174799   2.887055             3.775846   \n",
       "156  2023-01-02  3.557165         5.027027   2.888709             3.824300   \n",
       "157  2023-01-09  3.851385         4.321238   2.890188             3.687604   \n",
       "158  2023-01-16  3.967230         4.618877   2.891509             3.825872   \n",
       "159  2023-01-23  3.884790         4.397440   2.892690             3.724974   \n",
       "160  2023-01-30  3.737635         4.544107   2.893745             3.725162   \n",
       "161  2023-02-06  3.683421         4.550310   2.894688             3.709473   \n",
       "162  2023-02-13  3.780376         3.881146   2.895531             3.519018   \n",
       "163  2023-02-20  3.965904         4.002258   2.896285             3.621482   \n",
       "164  2023-02-27  4.126960         4.450691   2.896958             3.824870   \n",
       "165  2023-03-06  4.185236         3.997273   2.897560             3.693356   \n",
       "166  2023-03-13  4.136667         4.200898   2.898098             3.745221   \n",
       "167  2023-03-20  4.035928         4.360043   2.898579             3.764850   \n",
       "168  2023-03-27  3.947009         4.185046   2.899009             3.677022   \n",
       "169  2023-04-03  3.889210         3.972476   2.899393             3.587026   \n",
       "170  2023-04-10  3.814075         3.866870   2.899736             3.526894   \n",
       "171  2023-04-17  3.642302         3.320060   2.900043             3.287469   \n",
       "172  2023-04-24  3.346316         3.126776   2.900317             3.124470   \n",
       "173  2023-05-01  3.007704         3.196264   2.900562             3.034843   \n",
       "174  2023-05-08  2.778857         2.982588   2.900781             2.887409   \n",
       "175  2023-05-15  2.762781         2.710499   2.900977             2.791419   \n",
       "176  2023-05-22  2.918912         2.671192   2.901152             2.830419   \n",
       "177  2023-05-29  3.094505         2.042795   2.901309             2.679536   \n",
       "178  2023-06-05  3.159888         2.462105   2.901448             2.841147   \n",
       "179  2023-06-12  3.114994         2.928710   2.901573             2.981759   \n",
       "180  2023-06-19  3.061335         2.848009   2.901685             2.937010   \n",
       "181  2023-06-26  3.076374         2.848940   2.901785             2.942366   \n",
       "182  2023-07-03  3.129614         3.222094   2.901874             3.084527   \n",
       "\n",
       "     lr_predictions  \n",
       "128        2.940777  \n",
       "129        3.322950  \n",
       "130        4.114238  \n",
       "131        4.366915  \n",
       "132        3.590764  \n",
       "133        2.411554  \n",
       "134        2.264093  \n",
       "135        3.309835  \n",
       "136        5.122545  \n",
       "137        7.232340  \n",
       "138       10.018828  \n",
       "139       13.031134  \n",
       "140       16.259002  \n",
       "141       18.649391  \n",
       "142       19.842980  \n",
       "143       20.151889  \n",
       "144       19.819026  \n",
       "145       19.541075  \n",
       "146       19.021423  \n",
       "147       18.545043  \n",
       "148       18.213234  \n",
       "149       18.061474  \n",
       "150       18.002815  \n",
       "151       17.122147  \n",
       "152       14.772461  \n",
       "153       12.187177  \n",
       "154       10.881906  \n",
       "155       11.742495  \n",
       "156       14.215562  \n",
       "157       16.493018  \n",
       "158       17.620381  \n",
       "159       16.831467  \n",
       "160       15.626318  \n",
       "161       15.168132  \n",
       "162       15.751064  \n",
       "163       17.406747  \n",
       "164       18.978223  \n",
       "165       19.309373  \n",
       "166       18.973739  \n",
       "167       18.169706  \n",
       "168       17.336908  \n",
       "169       16.757834  \n",
       "170       16.070462  \n",
       "171       14.375943  \n",
       "172       11.746386  \n",
       "173        8.851042  \n",
       "174        6.792936  \n",
       "175        6.549456  \n",
       "176        7.883962  \n",
       "177        9.156427  \n",
       "178        9.885938  \n",
       "179        9.681374  \n",
       "180        9.187339  \n",
       "181        9.318392  \n",
       "182        9.924598  "
      ]
     },
     "execution_count": 78,
     "metadata": {},
     "output_type": "execute_result"
    }
   ],
   "source": [
    "df_final_predictions"
   ]
  },
  {
   "cell_type": "code",
   "execution_count": null,
   "metadata": {},
   "outputs": [],
   "source": []
  }
 ],
 "metadata": {
  "kernelspec": {
   "display_name": "Python 3",
   "language": "python",
   "name": "python3"
  },
  "language_info": {
   "codemirror_mode": {
    "name": "ipython",
    "version": 3
   },
   "file_extension": ".py",
   "mimetype": "text/x-python",
   "name": "python",
   "nbconvert_exporter": "python",
   "pygments_lexer": "ipython3",
   "version": "3.8.5"
  }
 },
 "nbformat": 4,
 "nbformat_minor": 4
}
